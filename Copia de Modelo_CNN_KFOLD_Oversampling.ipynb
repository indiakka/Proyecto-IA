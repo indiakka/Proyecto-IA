{
 "cells": [
  {
   "cell_type": "markdown",
   "id": "382924e2",
   "metadata": {
    "id": "382924e2"
   },
   "source": [
    "CLASIFICACIÓN CANCER DE MAMA CON EL MODELO CNN\n",
    "K-FOLD"
   ]
  },
  {
   "cell_type": "code",
   "execution_count": 1,
   "id": "de764b6c",
   "metadata": {
    "executionInfo": {
     "elapsed": 329,
     "status": "ok",
     "timestamp": 1639416338286,
     "user": {
      "displayName": "Zi Re",
      "photoUrl": "https://lh3.googleusercontent.com/a/default-user=s64",
      "userId": "15457632120979469374"
     },
     "user_tz": -60
    },
    "id": "de764b6c"
   },
   "outputs": [
    {
     "name": "stderr",
     "output_type": "stream",
     "text": [
      "Using TensorFlow backend.\n"
     ]
    }
   ],
   "source": [
    "import tensorflow as tf\n",
    "import pandas as pd\n",
    "from glob import glob\n",
    "import matplotlib.pyplot as plt\n",
    "import random\n",
    "import warnings \n",
    "import os\n",
    "import numpy as np # linear algebra\n",
    "import pandas as pd # data processing, CSV file I/O (e.g. pd.read_csv)\n",
    "from sklearn.model_selection import train_test_split\n",
    "from keras.preprocessing.image import img_to_array\n",
    "from tensorflow.keras.utils import to_categorical\n",
    "import imblearn\n",
    "from imblearn.over_sampling import RandomOverSampler\n",
    "warnings.filterwarnings('ignore')                    # Turn the warnings off.\n",
    "%matplotlib inline\n",
    "from tensorflow.keras.models import Sequential\n",
    "from tensorflow.keras.layers import Dense, Conv2D, Dropout, Flatten, MaxPooling2D\n",
    "from tensorflow.keras.optimizers import Adam, RMSprop, SGD"
   ]
  },
  {
   "cell_type": "code",
   "execution_count": 2,
   "id": "91d17e73",
   "metadata": {
    "colab": {
     "base_uri": "https://localhost:8080/"
    },
    "executionInfo": {
     "elapsed": 2430,
     "status": "ok",
     "timestamp": 1639416341224,
     "user": {
      "displayName": "Zi Re",
      "photoUrl": "https://lh3.googleusercontent.com/a/default-user=s64",
      "userId": "15457632120979469374"
     },
     "user_tz": -60
    },
    "id": "91d17e73",
    "outputId": "cdbdb2ad-f41b-4f58-9031-5f93df56da4d"
   },
   "outputs": [],
   "source": [
    "#from google.colab import drive\n",
    "#drive.mount('/content/drive')"
   ]
  },
  {
   "cell_type": "code",
   "execution_count": 3,
   "id": "cd2280a2",
   "metadata": {},
   "outputs": [],
   "source": [
    "os.chdir('C:\\\\Users\\\\Indiaka.TORRE-DAVID\\\\Desktop\\Datos')"
   ]
  },
  {
   "cell_type": "code",
   "execution_count": 4,
   "id": "3f02d689",
   "metadata": {
    "executionInfo": {
     "elapsed": 8,
     "status": "ok",
     "timestamp": 1639416341225,
     "user": {
      "displayName": "Zi Re",
      "photoUrl": "https://lh3.googleusercontent.com/a/default-user=s64",
      "userId": "15457632120979469374"
     },
     "user_tz": -60
    },
    "id": "3f02d689"
   },
   "outputs": [],
   "source": [
    "#os.chdir('/content/drive/MyDrive/Datos')"
   ]
  },
  {
   "cell_type": "code",
   "execution_count": 5,
   "id": "6b2220a2",
   "metadata": {
    "colab": {
     "base_uri": "https://localhost:8080/",
     "height": 206
    },
    "executionInfo": {
     "elapsed": 7,
     "status": "ok",
     "timestamp": 1639416341225,
     "user": {
      "displayName": "Zi Re",
      "photoUrl": "https://lh3.googleusercontent.com/a/default-user=s64",
      "userId": "15457632120979469374"
     },
     "user_tz": -60
    },
    "id": "6b2220a2",
    "outputId": "e1c6cfe3-434f-4489-e660-47cd58989290"
   },
   "outputs": [
    {
     "data": {
      "text/html": [
       "<div>\n",
       "<style scoped>\n",
       "    .dataframe tbody tr th:only-of-type {\n",
       "        vertical-align: middle;\n",
       "    }\n",
       "\n",
       "    .dataframe tbody tr th {\n",
       "        vertical-align: top;\n",
       "    }\n",
       "\n",
       "    .dataframe thead th {\n",
       "        text-align: right;\n",
       "    }\n",
       "</style>\n",
       "<table border=\"1\" class=\"dataframe\">\n",
       "  <thead>\n",
       "    <tr style=\"text-align: right;\">\n",
       "      <th></th>\n",
       "      <th>Unnamed: 0</th>\n",
       "      <th>patient_ID</th>\n",
       "      <th>pathes</th>\n",
       "      <th>diagnosis</th>\n",
       "    </tr>\n",
       "  </thead>\n",
       "  <tbody>\n",
       "    <tr>\n",
       "      <th>0</th>\n",
       "      <td>0</td>\n",
       "      <td>10253</td>\n",
       "      <td>C:\\Users\\Indiaka.TORRE-DAVID\\Desktop\\Datos\\can...</td>\n",
       "      <td>0</td>\n",
       "    </tr>\n",
       "    <tr>\n",
       "      <th>1</th>\n",
       "      <td>1</td>\n",
       "      <td>10253</td>\n",
       "      <td>C:\\Users\\Indiaka.TORRE-DAVID\\Desktop\\Datos\\can...</td>\n",
       "      <td>0</td>\n",
       "    </tr>\n",
       "    <tr>\n",
       "      <th>2</th>\n",
       "      <td>2</td>\n",
       "      <td>10253</td>\n",
       "      <td>C:\\Users\\Indiaka.TORRE-DAVID\\Desktop\\Datos\\can...</td>\n",
       "      <td>0</td>\n",
       "    </tr>\n",
       "    <tr>\n",
       "      <th>3</th>\n",
       "      <td>3</td>\n",
       "      <td>10253</td>\n",
       "      <td>C:\\Users\\Indiaka.TORRE-DAVID\\Desktop\\Datos\\can...</td>\n",
       "      <td>0</td>\n",
       "    </tr>\n",
       "    <tr>\n",
       "      <th>4</th>\n",
       "      <td>4</td>\n",
       "      <td>10253</td>\n",
       "      <td>C:\\Users\\Indiaka.TORRE-DAVID\\Desktop\\Datos\\can...</td>\n",
       "      <td>0</td>\n",
       "    </tr>\n",
       "  </tbody>\n",
       "</table>\n",
       "</div>"
      ],
      "text/plain": [
       "   Unnamed: 0  patient_ID                                             pathes  \\\n",
       "0           0       10253  C:\\Users\\Indiaka.TORRE-DAVID\\Desktop\\Datos\\can...   \n",
       "1           1       10253  C:\\Users\\Indiaka.TORRE-DAVID\\Desktop\\Datos\\can...   \n",
       "2           2       10253  C:\\Users\\Indiaka.TORRE-DAVID\\Desktop\\Datos\\can...   \n",
       "3           3       10253  C:\\Users\\Indiaka.TORRE-DAVID\\Desktop\\Datos\\can...   \n",
       "4           4       10253  C:\\Users\\Indiaka.TORRE-DAVID\\Desktop\\Datos\\can...   \n",
       "\n",
       "   diagnosis  \n",
       "0          0  \n",
       "1          0  \n",
       "2          0  \n",
       "3          0  \n",
       "4          0  "
      ]
     },
     "execution_count": 5,
     "metadata": {},
     "output_type": "execute_result"
    }
   ],
   "source": [
    "BC_df_copy = pd.read_csv('C:\\\\Users\\\\Indiaka.TORRE-DAVID\\\\Desktop\\Datos\\\\Breat_cancer_data.csv')\n",
    "BC_df_copy.head()"
   ]
  },
  {
   "cell_type": "code",
   "execution_count": 6,
   "id": "80486395",
   "metadata": {
    "executionInfo": {
     "elapsed": 6,
     "status": "ok",
     "timestamp": 1639416341225,
     "user": {
      "displayName": "Zi Re",
      "photoUrl": "https://lh3.googleusercontent.com/a/default-user=s64",
      "userId": "15457632120979469374"
     },
     "user_tz": -60
    },
    "id": "80486395"
   },
   "outputs": [],
   "source": [
    "BC_df_copy = BC_df_copy.sort_values('patient_ID')"
   ]
  },
  {
   "cell_type": "code",
   "execution_count": 7,
   "id": "705231ef",
   "metadata": {
    "colab": {
     "base_uri": "https://localhost:8080/",
     "height": 80
    },
    "executionInfo": {
     "elapsed": 7,
     "status": "ok",
     "timestamp": 1639416341226,
     "user": {
      "displayName": "Zi Re",
      "photoUrl": "https://lh3.googleusercontent.com/a/default-user=s64",
      "userId": "15457632120979469374"
     },
     "user_tz": -60
    },
    "id": "705231ef",
    "outputId": "90580bb5-a561-49d2-9233-8069d3f9de4a"
   },
   "outputs": [
    {
     "data": {
      "text/html": [
       "<div>\n",
       "<style scoped>\n",
       "    .dataframe tbody tr th:only-of-type {\n",
       "        vertical-align: middle;\n",
       "    }\n",
       "\n",
       "    .dataframe tbody tr th {\n",
       "        vertical-align: top;\n",
       "    }\n",
       "\n",
       "    .dataframe thead th {\n",
       "        text-align: right;\n",
       "    }\n",
       "</style>\n",
       "<table border=\"1\" class=\"dataframe\">\n",
       "  <thead>\n",
       "    <tr style=\"text-align: right;\">\n",
       "      <th></th>\n",
       "      <th>Unnamed: 0</th>\n",
       "      <th>patient_ID</th>\n",
       "      <th>pathes</th>\n",
       "      <th>diagnosis</th>\n",
       "    </tr>\n",
       "  </thead>\n",
       "  <tbody>\n",
       "    <tr>\n",
       "      <th>1580</th>\n",
       "      <td>1580</td>\n",
       "      <td>10255</td>\n",
       "      <td>C:\\Users\\Indiaka.TORRE-DAVID\\Desktop\\Datos\\can...</td>\n",
       "      <td>1</td>\n",
       "    </tr>\n",
       "  </tbody>\n",
       "</table>\n",
       "</div>"
      ],
      "text/plain": [
       "      Unnamed: 0  patient_ID  \\\n",
       "1580        1580       10255   \n",
       "\n",
       "                                                 pathes  diagnosis  \n",
       "1580  C:\\Users\\Indiaka.TORRE-DAVID\\Desktop\\Datos\\can...          1  "
      ]
     },
     "execution_count": 7,
     "metadata": {},
     "output_type": "execute_result"
    }
   ],
   "source": [
    "BC_df_copy.iloc[1400:1401,:]"
   ]
  },
  {
   "cell_type": "code",
   "execution_count": 8,
   "id": "dae74fa6",
   "metadata": {
    "executionInfo": {
     "elapsed": 1211054,
     "status": "ok",
     "timestamp": 1639417552727,
     "user": {
      "displayName": "Zi Re",
      "photoUrl": "https://lh3.googleusercontent.com/a/default-user=s64",
      "userId": "15457632120979469374"
     },
     "user_tz": -60
    },
    "id": "dae74fa6"
   },
   "outputs": [],
   "source": [
    "from PIL.Image import open\n",
    "BC_df_copy['pixels'] =  BC_df_copy['pathes'].map(lambda x:np.asarray(open(x).resize((224,224))))"
   ]
  },
  {
   "cell_type": "code",
   "execution_count": 9,
   "id": "8icXJBEZ0r-1",
   "metadata": {
    "colab": {
     "base_uri": "https://localhost:8080/",
     "height": 206
    },
    "executionInfo": {
     "elapsed": 21881,
     "status": "ok",
     "timestamp": 1639417574605,
     "user": {
      "displayName": "Zi Re",
      "photoUrl": "https://lh3.googleusercontent.com/a/default-user=s64",
      "userId": "15457632120979469374"
     },
     "user_tz": -60
    },
    "id": "8icXJBEZ0r-1",
    "outputId": "7f8e03c7-6912-4afd-9992-48b46628a817"
   },
   "outputs": [
    {
     "data": {
      "text/html": [
       "<div>\n",
       "<style scoped>\n",
       "    .dataframe tbody tr th:only-of-type {\n",
       "        vertical-align: middle;\n",
       "    }\n",
       "\n",
       "    .dataframe tbody tr th {\n",
       "        vertical-align: top;\n",
       "    }\n",
       "\n",
       "    .dataframe thead th {\n",
       "        text-align: right;\n",
       "    }\n",
       "</style>\n",
       "<table border=\"1\" class=\"dataframe\">\n",
       "  <thead>\n",
       "    <tr style=\"text-align: right;\">\n",
       "      <th></th>\n",
       "      <th>Unnamed: 0</th>\n",
       "      <th>patient_ID</th>\n",
       "      <th>pathes</th>\n",
       "      <th>diagnosis</th>\n",
       "      <th>pixels</th>\n",
       "    </tr>\n",
       "  </thead>\n",
       "  <tbody>\n",
       "    <tr>\n",
       "      <th>0</th>\n",
       "      <td>0</td>\n",
       "      <td>10253</td>\n",
       "      <td>C:\\Users\\Indiaka.TORRE-DAVID\\Desktop\\Datos\\can...</td>\n",
       "      <td>0</td>\n",
       "      <td>[[[227, 168, 209], [227, 168, 209], [227, 167,...</td>\n",
       "    </tr>\n",
       "    <tr>\n",
       "      <th>375</th>\n",
       "      <td>375</td>\n",
       "      <td>10253</td>\n",
       "      <td>C:\\Users\\Indiaka.TORRE-DAVID\\Desktop\\Datos\\can...</td>\n",
       "      <td>0</td>\n",
       "      <td>[[[161, 98, 123], [164, 101, 125], [168, 108, ...</td>\n",
       "    </tr>\n",
       "    <tr>\n",
       "      <th>374</th>\n",
       "      <td>374</td>\n",
       "      <td>10253</td>\n",
       "      <td>C:\\Users\\Indiaka.TORRE-DAVID\\Desktop\\Datos\\can...</td>\n",
       "      <td>0</td>\n",
       "      <td>[[[225, 181, 207], [225, 180, 206], [225, 176,...</td>\n",
       "    </tr>\n",
       "    <tr>\n",
       "      <th>373</th>\n",
       "      <td>373</td>\n",
       "      <td>10253</td>\n",
       "      <td>C:\\Users\\Indiaka.TORRE-DAVID\\Desktop\\Datos\\can...</td>\n",
       "      <td>0</td>\n",
       "      <td>[[[249, 245, 252], [249, 245, 252], [249, 245,...</td>\n",
       "    </tr>\n",
       "    <tr>\n",
       "      <th>372</th>\n",
       "      <td>372</td>\n",
       "      <td>10253</td>\n",
       "      <td>C:\\Users\\Indiaka.TORRE-DAVID\\Desktop\\Datos\\can...</td>\n",
       "      <td>0</td>\n",
       "      <td>[[[226, 197, 221], [227, 198, 221], [227, 201,...</td>\n",
       "    </tr>\n",
       "  </tbody>\n",
       "</table>\n",
       "</div>"
      ],
      "text/plain": [
       "     Unnamed: 0  patient_ID  \\\n",
       "0             0       10253   \n",
       "375         375       10253   \n",
       "374         374       10253   \n",
       "373         373       10253   \n",
       "372         372       10253   \n",
       "\n",
       "                                                pathes  diagnosis  \\\n",
       "0    C:\\Users\\Indiaka.TORRE-DAVID\\Desktop\\Datos\\can...          0   \n",
       "375  C:\\Users\\Indiaka.TORRE-DAVID\\Desktop\\Datos\\can...          0   \n",
       "374  C:\\Users\\Indiaka.TORRE-DAVID\\Desktop\\Datos\\can...          0   \n",
       "373  C:\\Users\\Indiaka.TORRE-DAVID\\Desktop\\Datos\\can...          0   \n",
       "372  C:\\Users\\Indiaka.TORRE-DAVID\\Desktop\\Datos\\can...          0   \n",
       "\n",
       "                                                pixels  \n",
       "0    [[[227, 168, 209], [227, 168, 209], [227, 167,...  \n",
       "375  [[[161, 98, 123], [164, 101, 125], [168, 108, ...  \n",
       "374  [[[225, 181, 207], [225, 180, 206], [225, 176,...  \n",
       "373  [[[249, 245, 252], [249, 245, 252], [249, 245,...  \n",
       "372  [[[226, 197, 221], [227, 198, 221], [227, 201,...  "
      ]
     },
     "execution_count": 9,
     "metadata": {},
     "output_type": "execute_result"
    }
   ],
   "source": [
    "BC_df_copy.head()"
   ]
  },
  {
   "cell_type": "code",
   "execution_count": 10,
   "id": "CZi7USlCxKaA",
   "metadata": {
    "executionInfo": {
     "elapsed": 2,
     "status": "ok",
     "timestamp": 1639417575653,
     "user": {
      "displayName": "Zi Re",
      "photoUrl": "https://lh3.googleusercontent.com/a/default-user=s64",
      "userId": "15457632120979469374"
     },
     "user_tz": -60
    },
    "id": "CZi7USlCxKaA"
   },
   "outputs": [],
   "source": [
    "BC_df_copy['diagnosisPaciente'] = BC_df_copy['diagnosis'].map(str) + \"_\" + BC_df_copy['patient_ID'].map(str)"
   ]
  },
  {
   "cell_type": "markdown",
   "id": "5556e188",
   "metadata": {
    "id": "5556e188"
   },
   "source": [
    "**CREACIÓN DE LOS CONJUNTOS DE DATOS**"
   ]
  },
  {
   "cell_type": "code",
   "execution_count": 11,
   "id": "829b89a3",
   "metadata": {
    "executionInfo": {
     "elapsed": 296,
     "status": "ok",
     "timestamp": 1639417609841,
     "user": {
      "displayName": "Zi Re",
      "photoUrl": "https://lh3.googleusercontent.com/a/default-user=s64",
      "userId": "15457632120979469374"
     },
     "user_tz": -60
    },
    "id": "829b89a3"
   },
   "outputs": [],
   "source": [
    "X = BC_df_copy['pixels']\n",
    "y = np.array(BC_df_copy['diagnosis'])"
   ]
  },
  {
   "cell_type": "code",
   "execution_count": 12,
   "id": "75a1494a",
   "metadata": {
    "colab": {
     "base_uri": "https://localhost:8080/"
    },
    "executionInfo": {
     "elapsed": 3,
     "status": "ok",
     "timestamp": 1639417611158,
     "user": {
      "displayName": "Zi Re",
      "photoUrl": "https://lh3.googleusercontent.com/a/default-user=s64",
      "userId": "15457632120979469374"
     },
     "user_tz": -60
    },
    "id": "75a1494a",
    "outputId": "5935bf4c-db85-45be-9792-1f5c63fb9d2f"
   },
   "outputs": [
    {
     "name": "stdout",
     "output_type": "stream",
     "text": [
      "La dimension de X_train : (1397,)\n",
      "La dimension de X_validation : (272,)\n",
      "La dimension de X_test : (468,)\n",
      "La dimension de y_train : (1397,)\n",
      "La dimension de y_validation : (272,)\n",
      "La dimension de y_test : (468,)\n"
     ]
    }
   ],
   "source": [
    "X_train = X[0:1397]\n",
    "X_validation = X[1397:1669]\n",
    "X_test = X[1669:2137]\n",
    "y_train =BC_df_copy['diagnosisPaciente'][0:1397]\n",
    "y_validation = y[1397:1669]\n",
    "y_test = y[1669:2137]\n",
    "C_validation = BC_df_copy['patient_ID'][1397:1669]\n",
    "\n",
    "print('La dimension de X_train :'+\" \"+str(X_train.shape))\n",
    "print('La dimension de X_validation :'+\" \"+str(X_validation.shape))\n",
    "print('La dimension de X_test :'+\" \"+str(X_test.shape))\n",
    "print('La dimension de y_train :'+\" \"+str(y_train.shape))\n",
    "print('La dimension de y_validation :'+\" \"+str(y_validation.shape))\n",
    "print('La dimension de y_test :'+\" \"+str(y_test.shape))"
   ]
  },
  {
   "cell_type": "code",
   "execution_count": 13,
   "id": "ff41be2a",
   "metadata": {
    "colab": {
     "base_uri": "https://localhost:8080/"
    },
    "executionInfo": {
     "elapsed": 3,
     "status": "ok",
     "timestamp": 1639417612423,
     "user": {
      "displayName": "Zi Re",
      "photoUrl": "https://lh3.googleusercontent.com/a/default-user=s64",
      "userId": "15457632120979469374"
     },
     "user_tz": -60
    },
    "id": "ff41be2a",
    "outputId": "f1e6de62-f6b3-4c5b-a33c-f35f8fc4f554"
   },
   "outputs": [
    {
     "name": "stdout",
     "output_type": "stream",
     "text": [
      "Numero de imágenes para train: 1397         \n",
      "Numero de imágenes para test: 468         \n",
      "Numero de clases: 2\n"
     ]
    }
   ],
   "source": [
    "#información relevante\n",
    "num_train = len((X_train))\n",
    "num_test = len((X_test))\n",
    "num_classes = 2\n",
    "\n",
    "# Print important info\n",
    "print(f'Numero de imágenes para train: {num_train} \\\n",
    "        \\nNumero de imágenes para test: {num_test} \\\n",
    "        \\nNumero de clases: {num_classes}')"
   ]
  },
  {
   "cell_type": "code",
   "execution_count": 14,
   "id": "0b67589c",
   "metadata": {
    "colab": {
     "base_uri": "https://localhost:8080/"
    },
    "executionInfo": {
     "elapsed": 2220,
     "status": "ok",
     "timestamp": 1639417616109,
     "user": {
      "displayName": "Zi Re",
      "photoUrl": "https://lh3.googleusercontent.com/a/default-user=s64",
      "userId": "15457632120979469374"
     },
     "user_tz": -60
    },
    "id": "0b67589c",
    "outputId": "007ef7c0-6cc3-4a03-e43c-3f9aebdbb82a"
   },
   "outputs": [
    {
     "name": "stdout",
     "output_type": "stream",
     "text": [
      "(1397, 224, 224, 3)\n"
     ]
    }
   ],
   "source": [
    "# training set\n",
    "img_list = []\n",
    "for i in range (0,len(X_train)):\n",
    "    brain_img =np.array(X_train)[i]\n",
    "    img_arr = img_to_array(brain_img/255).astype(np.float32)\n",
    "    img_list.append(img_arr)\n",
    "X_scaled = np.array(img_list)\n",
    "\n",
    "print(X_scaled.shape)"
   ]
  },
  {
   "cell_type": "code",
   "execution_count": 15,
   "id": "93fd23f3",
   "metadata": {
    "colab": {
     "base_uri": "https://localhost:8080/"
    },
    "executionInfo": {
     "elapsed": 952,
     "status": "ok",
     "timestamp": 1639417617059,
     "user": {
      "displayName": "Zi Re",
      "photoUrl": "https://lh3.googleusercontent.com/a/default-user=s64",
      "userId": "15457632120979469374"
     },
     "user_tz": -60
    },
    "id": "93fd23f3",
    "outputId": "53894abf-7ebd-45ef-ed35-64e4e5e1a998"
   },
   "outputs": [
    {
     "name": "stdout",
     "output_type": "stream",
     "text": [
      "(272, 224, 224, 3)\n"
     ]
    }
   ],
   "source": [
    "# validation set\n",
    "img_validation = []\n",
    "for i in range (0,len(X_validation)):\n",
    "    brain_img_validation =np.array(X_validation)[i]\n",
    "    img_validation_arr = img_to_array(brain_img_validation/255).astype(np.float32)\n",
    "    img_validation.append((img_validation_arr))\n",
    "X_scaled_validation = np.array(img_validation)\n",
    "\n",
    "print(X_scaled_validation.shape)"
   ]
  },
  {
   "cell_type": "code",
   "execution_count": 16,
   "id": "94f41644",
   "metadata": {
    "colab": {
     "base_uri": "https://localhost:8080/"
    },
    "executionInfo": {
     "elapsed": 416,
     "status": "ok",
     "timestamp": 1639417618944,
     "user": {
      "displayName": "Zi Re",
      "photoUrl": "https://lh3.googleusercontent.com/a/default-user=s64",
      "userId": "15457632120979469374"
     },
     "user_tz": -60
    },
    "id": "94f41644",
    "outputId": "20086979-9aef-4fa6-c70d-0d1bef77a0f7"
   },
   "outputs": [
    {
     "name": "stdout",
     "output_type": "stream",
     "text": [
      "(468, 224, 224, 3)\n"
     ]
    }
   ],
   "source": [
    "# test set\n",
    "img_test = []\n",
    "for i in range (0,len(X_test)):\n",
    "    brain_img_test =np.array(X_test)[i]\n",
    "    img_test_arr = img_to_array(brain_img_test/255).astype(np.float32)\n",
    "    img_test.append((img_test_arr))\n",
    "X_scaled_test = np.array(img_test)\n",
    "\n",
    "print(X_scaled_test.shape)"
   ]
  },
  {
   "cell_type": "markdown",
   "id": "329f03cb",
   "metadata": {
    "id": "329f03cb"
   },
   "source": [
    "****Balanceo de datos para el train set****"
   ]
  },
  {
   "cell_type": "code",
   "execution_count": 17,
   "id": "d71abeda",
   "metadata": {
    "executionInfo": {
     "elapsed": 306,
     "status": "ok",
     "timestamp": 1639417621221,
     "user": {
      "displayName": "Zi Re",
      "photoUrl": "https://lh3.googleusercontent.com/a/default-user=s64",
      "userId": "15457632120979469374"
     },
     "user_tz": -60
    },
    "id": "d71abeda"
   },
   "outputs": [],
   "source": [
    "X_train_shape = X_scaled.shape[1]*X_scaled.shape[2]*X_scaled.shape[3]\n",
    "X_Flatten = X_scaled.reshape(X_scaled.shape[0],X_train_shape)"
   ]
  },
  {
   "cell_type": "code",
   "execution_count": 18,
   "id": "308ade69",
   "metadata": {
    "executionInfo": {
     "elapsed": 2219,
     "status": "ok",
     "timestamp": 1639417623838,
     "user": {
      "displayName": "Zi Re",
      "photoUrl": "https://lh3.googleusercontent.com/a/default-user=s64",
      "userId": "15457632120979469374"
     },
     "user_tz": -60
    },
    "id": "308ade69"
   },
   "outputs": [],
   "source": [
    "ros = RandomOverSampler(random_state=10)\n",
    "X_train_res, y_train = ros.fit_resample(X_Flatten, y_train)"
   ]
  },
  {
   "cell_type": "code",
   "execution_count": 19,
   "id": "2f632a3c",
   "metadata": {
    "colab": {
     "base_uri": "https://localhost:8080/"
    },
    "executionInfo": {
     "elapsed": 2,
     "status": "ok",
     "timestamp": 1639417623838,
     "user": {
      "displayName": "Zi Re",
      "photoUrl": "https://lh3.googleusercontent.com/a/default-user=s64",
      "userId": "15457632120979469374"
     },
     "user_tz": -60
    },
    "id": "2f632a3c",
    "outputId": "b5521fd1-3392-49fb-eb5c-42bb1b389eff"
   },
   "outputs": [
    {
     "name": "stdout",
     "output_type": "stream",
     "text": [
      "The shape of the training set after reshape it : (3088, 224, 224, 3)\n"
     ]
    }
   ],
   "source": [
    "row,col,channel = 224 ,224 , 3 \n",
    "X_scaled = X_train_res.reshape(len(X_train_res),row,col,channel)\n",
    "# chec the shape of our training set\n",
    "print('The shape of the training set after reshape it :'+\" \"+str(X_scaled.shape))"
   ]
  },
  {
   "cell_type": "markdown",
   "id": "Evk7k2y60JMn",
   "metadata": {
    "id": "Evk7k2y60JMn"
   },
   "source": [
    "Separar los campos en diagnosis y codigo paciente"
   ]
  },
  {
   "cell_type": "code",
   "execution_count": 20,
   "id": "MynYGeQG3AhX",
   "metadata": {
    "executionInfo": {
     "elapsed": 1,
     "status": "ok",
     "timestamp": 1639417624372,
     "user": {
      "displayName": "Zi Re",
      "photoUrl": "https://lh3.googleusercontent.com/a/default-user=s64",
      "userId": "15457632120979469374"
     },
     "user_tz": -60
    },
    "id": "MynYGeQG3AhX"
   },
   "outputs": [],
   "source": [
    "C_train = y_train.str.split(\"_\",1).str[1]"
   ]
  },
  {
   "cell_type": "code",
   "execution_count": 21,
   "id": "_nYkqbonzV-d",
   "metadata": {
    "executionInfo": {
     "elapsed": 2,
     "status": "ok",
     "timestamp": 1639417625367,
     "user": {
      "displayName": "Zi Re",
      "photoUrl": "https://lh3.googleusercontent.com/a/default-user=s64",
      "userId": "15457632120979469374"
     },
     "user_tz": -60
    },
    "id": "_nYkqbonzV-d"
   },
   "outputs": [],
   "source": [
    "y_train = y_train.str.split(\"_\",1).str[0]"
   ]
  },
  {
   "cell_type": "code",
   "execution_count": 22,
   "id": "5hgthHVMt0k7",
   "metadata": {
    "colab": {
     "base_uri": "https://localhost:8080/"
    },
    "executionInfo": {
     "elapsed": 2,
     "status": "ok",
     "timestamp": 1639417625697,
     "user": {
      "displayName": "Zi Re",
      "photoUrl": "https://lh3.googleusercontent.com/a/default-user=s64",
      "userId": "15457632120979469374"
     },
     "user_tz": -60
    },
    "id": "5hgthHVMt0k7",
    "outputId": "1b91fa19-6238-497b-b139-2b107087523b"
   },
   "outputs": [
    {
     "data": {
      "text/plain": [
       "(272,)"
      ]
     },
     "execution_count": 22,
     "metadata": {},
     "output_type": "execute_result"
    }
   ],
   "source": [
    "C_validation.shape"
   ]
  },
  {
   "cell_type": "markdown",
   "id": "5358c1fd",
   "metadata": {
    "id": "5358c1fd"
   },
   "source": [
    "Unir los conjuntos de train y validation para hacer posteriormente el k-fold"
   ]
  },
  {
   "cell_type": "code",
   "execution_count": 23,
   "id": "fe288d46",
   "metadata": {
    "executionInfo": {
     "elapsed": 2,
     "status": "ok",
     "timestamp": 1639417627384,
     "user": {
      "displayName": "Zi Re",
      "photoUrl": "https://lh3.googleusercontent.com/a/default-user=s64",
      "userId": "15457632120979469374"
     },
     "user_tz": -60
    },
    "id": "fe288d46"
   },
   "outputs": [],
   "source": [
    "C_total = np.concatenate((C_train,C_validation), axis =0)"
   ]
  },
  {
   "cell_type": "code",
   "execution_count": 24,
   "id": "0dcd24a7",
   "metadata": {
    "executionInfo": {
     "elapsed": 2,
     "status": "ok",
     "timestamp": 1639417629007,
     "user": {
      "displayName": "Zi Re",
      "photoUrl": "https://lh3.googleusercontent.com/a/default-user=s64",
      "userId": "15457632120979469374"
     },
     "user_tz": -60
    },
    "id": "0dcd24a7"
   },
   "outputs": [],
   "source": [
    "y_train = np.concatenate((y_train,y_validation), axis =0)"
   ]
  },
  {
   "cell_type": "code",
   "execution_count": 25,
   "id": "dq0z9SKutVwc",
   "metadata": {
    "executionInfo": {
     "elapsed": 915,
     "status": "ok",
     "timestamp": 1639417630353,
     "user": {
      "displayName": "Zi Re",
      "photoUrl": "https://lh3.googleusercontent.com/a/default-user=s64",
      "userId": "15457632120979469374"
     },
     "user_tz": -60
    },
    "id": "dq0z9SKutVwc"
   },
   "outputs": [],
   "source": [
    "X_scaled = np.concatenate((X_scaled,X_scaled_validation), axis = 0)"
   ]
  },
  {
   "cell_type": "markdown",
   "id": "7965ca57",
   "metadata": {
    "id": "7965ca57"
   },
   "source": [
    "**one-hot-encoding**"
   ]
  },
  {
   "cell_type": "code",
   "execution_count": 26,
   "id": "2da0f2f4",
   "metadata": {
    "colab": {
     "base_uri": "https://localhost:8080/"
    },
    "executionInfo": {
     "elapsed": 3,
     "status": "ok",
     "timestamp": 1639417630353,
     "user": {
      "displayName": "Zi Re",
      "photoUrl": "https://lh3.googleusercontent.com/a/default-user=s64",
      "userId": "15457632120979469374"
     },
     "user_tz": -60
    },
    "id": "2da0f2f4",
    "outputId": "5d72bcbb-ed54-44c7-b649-7c1f8c8dced0"
   },
   "outputs": [
    {
     "name": "stdout",
     "output_type": "stream",
     "text": [
      "(3360, 2)\n",
      "(468, 2)\n"
     ]
    }
   ],
   "source": [
    "y_train = to_categorical(y_train, num_classes=2)\n",
    "y_test = to_categorical(y_test, num_classes=2)\n",
    "print(y_train.shape)\n",
    "print(y_test.shape)"
   ]
  },
  {
   "cell_type": "code",
   "execution_count": 27,
   "id": "XSFxmaSj07cG",
   "metadata": {
    "executionInfo": {
     "elapsed": 2,
     "status": "ok",
     "timestamp": 1639417632245,
     "user": {
      "displayName": "Zi Re",
      "photoUrl": "https://lh3.googleusercontent.com/a/default-user=s64",
      "userId": "15457632120979469374"
     },
     "user_tz": -60
    },
    "id": "XSFxmaSj07cG"
   },
   "outputs": [],
   "source": [
    "C_total = np.array(C_total).astype(int)"
   ]
  },
  {
   "cell_type": "markdown",
   "id": "975c58e8",
   "metadata": {
    "id": "975c58e8"
   },
   "source": [
    "**CREACIÓN y ENTRENAMIENTO DEL MODELO**"
   ]
  },
  {
   "cell_type": "code",
   "execution_count": 29,
   "id": "g0_X1JxJ3v8l",
   "metadata": {
    "executionInfo": {
     "elapsed": 349,
     "status": "ok",
     "timestamp": 1639417633787,
     "user": {
      "displayName": "Zi Re",
      "photoUrl": "https://lh3.googleusercontent.com/a/default-user=s64",
      "userId": "15457632120979469374"
     },
     "user_tz": -60
    },
    "id": "g0_X1JxJ3v8l"
   },
   "outputs": [],
   "source": [
    "from sklearn.model_selection import GroupKFold"
   ]
  },
  {
   "cell_type": "code",
   "execution_count": 30,
   "id": "2796d49f",
   "metadata": {
    "executionInfo": {
     "elapsed": 306,
     "status": "ok",
     "timestamp": 1639417640767,
     "user": {
      "displayName": "Zi Re",
      "photoUrl": "https://lh3.googleusercontent.com/a/default-user=s64",
      "userId": "15457632120979469374"
     },
     "user_tz": -60
    },
    "id": "2796d49f"
   },
   "outputs": [],
   "source": [
    "n_epochs = 2\n",
    "batch_size = 32\n",
    "learn_rate = 0.0002"
   ]
  },
  {
   "cell_type": "code",
   "execution_count": 31,
   "id": "a7f36fba",
   "metadata": {
    "executionInfo": {
     "elapsed": 423,
     "status": "ok",
     "timestamp": 1639417642406,
     "user": {
      "displayName": "Zi Re",
      "photoUrl": "https://lh3.googleusercontent.com/a/default-user=s64",
      "userId": "15457632120979469374"
     },
     "user_tz": -60
    },
    "id": "a7f36fba",
    "scrolled": true
   },
   "outputs": [],
   "source": [
    "drop_prob = 0.5\n",
    "my_model = Sequential()\n",
    "# 1st convolution + pooling.\n",
    "my_model.add(Conv2D(input_shape=(224,224,3),filters=32,kernel_size=(5,5),padding='same',activation=\"relu\"))        # 3 channels of color.\n",
    "my_model.add(MaxPooling2D(pool_size=2))\n",
    "# 2nd convolution + pooling.\n",
    "my_model.add(Conv2D(filters=64,kernel_size=(5,5), padding='same',activation=\"relu\"))\n",
    "my_model.add(MaxPooling2D(pool_size=2))\n",
    "# Flattened fully connected layer.\n",
    "my_model.add(Flatten())\n",
    "my_model.add(Dense(units = 1024, activation=\"relu\"))\n",
    "# Apply dropout.\n",
    "my_model.add(Dropout(rate=drop_prob))\n",
    "# Output layer.\n",
    "my_model.add(Dense(units = 2, activation=\"softmax\"))"
   ]
  },
  {
   "cell_type": "code",
   "execution_count": 32,
   "id": "aa4a0e6a",
   "metadata": {
    "colab": {
     "base_uri": "https://localhost:8080/"
    },
    "executionInfo": {
     "elapsed": 213,
     "status": "ok",
     "timestamp": 1639414377661,
     "user": {
      "displayName": "Zi Re",
      "photoUrl": "https://lh3.googleusercontent.com/a/default-user=s64",
      "userId": "15457632120979469374"
     },
     "user_tz": -60
    },
    "id": "aa4a0e6a",
    "outputId": "527a7c11-11b6-4ee7-a1e6-49e883c6a69f"
   },
   "outputs": [
    {
     "name": "stdout",
     "output_type": "stream",
     "text": [
      "Model: \"sequential\"\n",
      "_________________________________________________________________\n",
      "Layer (type)                 Output Shape              Param #   \n",
      "=================================================================\n",
      "conv2d (Conv2D)              (None, 224, 224, 32)      2432      \n",
      "_________________________________________________________________\n",
      "max_pooling2d (MaxPooling2D) (None, 112, 112, 32)      0         \n",
      "_________________________________________________________________\n",
      "conv2d_1 (Conv2D)            (None, 112, 112, 64)      51264     \n",
      "_________________________________________________________________\n",
      "max_pooling2d_1 (MaxPooling2 (None, 56, 56, 64)        0         \n",
      "_________________________________________________________________\n",
      "flatten (Flatten)            (None, 200704)            0         \n",
      "_________________________________________________________________\n",
      "dense (Dense)                (None, 1024)              205521920 \n",
      "_________________________________________________________________\n",
      "dropout (Dropout)            (None, 1024)              0         \n",
      "_________________________________________________________________\n",
      "dense_1 (Dense)              (None, 2)                 2050      \n",
      "=================================================================\n",
      "Total params: 205,577,666\n",
      "Trainable params: 205,577,666\n",
      "Non-trainable params: 0\n",
      "_________________________________________________________________\n"
     ]
    }
   ],
   "source": [
    "my_model.summary()"
   ]
  },
  {
   "cell_type": "code",
   "execution_count": 33,
   "id": "3d173b23",
   "metadata": {
    "executionInfo": {
     "elapsed": 415,
     "status": "ok",
     "timestamp": 1639417646488,
     "user": {
      "displayName": "Zi Re",
      "photoUrl": "https://lh3.googleusercontent.com/a/default-user=s64",
      "userId": "15457632120979469374"
     },
     "user_tz": -60
    },
    "id": "3d173b23"
   },
   "outputs": [],
   "source": [
    "my_optimizer=Adam(lr=learn_rate)\n",
    "my_model.compile(loss = \"categorical_crossentropy\", optimizer = my_optimizer, metrics=[\"accuracy\"])"
   ]
  },
  {
   "cell_type": "code",
   "execution_count": 34,
   "id": "9bb55641",
   "metadata": {
    "colab": {
     "base_uri": "https://localhost:8080/"
    },
    "id": "9bb55641",
    "outputId": "26b6cb60-fb97-490c-b549-3741adf3a66e"
   },
   "outputs": [
    {
     "name": "stdout",
     "output_type": "stream",
     "text": [
      "Train on 1816 samples\n",
      "Epoch 1/2\n",
      "1816/1816 - 86s - loss: 0.6988 - accuracy: 0.8150\n",
      "Epoch 2/2\n",
      "1816/1816 - 87s - loss: 0.1285 - accuracy: 0.9548\n",
      "accuracy: 84.52%\n",
      "84.52% (+/- 0.00%)\n",
      "Train on 1816 samples\n",
      "Epoch 1/2\n",
      "1816/1816 - 86s - loss: 0.2677 - accuracy: 0.8981\n",
      "Epoch 2/2\n",
      "1816/1816 - 88s - loss: 0.1334 - accuracy: 0.9593\n",
      "accuracy: 75.97%\n",
      "80.25% (+/- 4.27%)\n",
      "Train on 3088 samples\n",
      "Epoch 1/2\n",
      "3088/3088 - 148s - loss: 0.1101 - accuracy: 0.9631\n",
      "Epoch 2/2\n",
      "3088/3088 - 148s - loss: 0.0331 - accuracy: 0.9945\n",
      "accuracy: 84.56%\n",
      "81.68% (+/- 4.04%)\n"
     ]
    }
   ],
   "source": [
    "groups = C_total\n",
    "group_kfold = GroupKFold(n_splits= 3)\n",
    "cvscores = []\n",
    "for train,validacion  in group_kfold.split(X_scaled,y_train, groups):\n",
    "  historia = my_model.fit(X_scaled[train],y_train[train], epochs=n_epochs, batch_size = batch_size, verbose = 2)\n",
    "  resTest = my_model.evaluate(X_scaled[validacion], y_train[validacion], verbose = 0)\n",
    "  print(\"%s: %.2f%%\" % (my_model.metrics_names[1], resTest[1]*100))\n",
    "  cvscores.append(resTest[1]*100)\n",
    "  print(\"%.2f%% (+/- %.2f%%)\" % (np.mean(cvscores), np.std(cvscores)))"
   ]
  },
  {
   "cell_type": "code",
   "execution_count": 38,
   "id": "17961aca",
   "metadata": {
    "id": "17961aca",
    "scrolled": true
   },
   "outputs": [
    {
     "data": {
      "text/plain": [
       "dict_keys(['loss', 'accuracy'])"
      ]
     },
     "execution_count": 38,
     "metadata": {},
     "output_type": "execute_result"
    }
   ],
   "source": [
    "historia.history.keys()"
   ]
  },
  {
   "cell_type": "markdown",
   "id": "02ecba52",
   "metadata": {
    "id": "02ecba52"
   },
   "source": [
    "**GRÁFICAS. Evaluación de los resultados con el conjunto de validación**"
   ]
  },
  {
   "cell_type": "code",
   "execution_count": 39,
   "id": "12338b89",
   "metadata": {
    "id": "12338b89"
   },
   "outputs": [
    {
     "data": {
      "text/plain": [
       "0.9944948"
      ]
     },
     "execution_count": 39,
     "metadata": {},
     "output_type": "execute_result"
    }
   ],
   "source": [
    "accuracy_validation = historia.history['accuracy'][-1]\n",
    "accuracy_validation"
   ]
  },
  {
   "cell_type": "code",
   "execution_count": 43,
   "id": "e6c56072",
   "metadata": {},
   "outputs": [
    {
     "data": {
      "text/plain": [
       "[0.47149830952505856, 0.8455882]"
      ]
     },
     "execution_count": 43,
     "metadata": {},
     "output_type": "execute_result"
    }
   ],
   "source": [
    "resTest"
   ]
  },
  {
   "cell_type": "code",
   "execution_count": 40,
   "id": "97a04238",
   "metadata": {
    "id": "97a04238"
   },
   "outputs": [
    {
     "ename": "KeyError",
     "evalue": "'val_accuracy'",
     "output_type": "error",
     "traceback": [
      "\u001b[1;31m---------------------------------------------------------------------------\u001b[0m",
      "\u001b[1;31mKeyError\u001b[0m                                  Traceback (most recent call last)",
      "\u001b[1;32mC:\\Users\\INDIAK~1.TOR\\AppData\\Local\\Temp/ipykernel_11092/643854558.py\u001b[0m in \u001b[0;36m<module>\u001b[1;34m\u001b[0m\n\u001b[0;32m      2\u001b[0m \u001b[0mn_skip\u001b[0m \u001b[1;33m=\u001b[0m \u001b[1;36m0\u001b[0m                 \u001b[1;31m# Skip the first few steps.\u001b[0m\u001b[1;33m\u001b[0m\u001b[1;33m\u001b[0m\u001b[0m\n\u001b[0;32m      3\u001b[0m \u001b[0mplt\u001b[0m\u001b[1;33m.\u001b[0m\u001b[0mplot\u001b[0m\u001b[1;33m(\u001b[0m\u001b[0mhistoria\u001b[0m\u001b[1;33m.\u001b[0m\u001b[0mhistory\u001b[0m\u001b[1;33m[\u001b[0m\u001b[1;34m'accuracy'\u001b[0m\u001b[1;33m]\u001b[0m\u001b[1;33m[\u001b[0m\u001b[0mn_skip\u001b[0m\u001b[1;33m:\u001b[0m\u001b[1;33m]\u001b[0m\u001b[1;33m,\u001b[0m \u001b[0mc\u001b[0m\u001b[1;33m=\u001b[0m\u001b[1;34m\"b\"\u001b[0m\u001b[1;33m)\u001b[0m\u001b[1;33m\u001b[0m\u001b[1;33m\u001b[0m\u001b[0m\n\u001b[1;32m----> 4\u001b[1;33m \u001b[0mplt\u001b[0m\u001b[1;33m.\u001b[0m\u001b[0mplot\u001b[0m\u001b[1;33m(\u001b[0m\u001b[0mhistoria\u001b[0m\u001b[1;33m.\u001b[0m\u001b[0mhistory\u001b[0m\u001b[1;33m[\u001b[0m\u001b[1;34m'val_accuracy'\u001b[0m\u001b[1;33m]\u001b[0m\u001b[1;33m[\u001b[0m\u001b[0mn_skip\u001b[0m\u001b[1;33m:\u001b[0m\u001b[1;33m]\u001b[0m\u001b[1;33m,\u001b[0m \u001b[0mc\u001b[0m\u001b[1;33m=\u001b[0m\u001b[1;34m\"g\"\u001b[0m\u001b[1;33m)\u001b[0m\u001b[1;33m\u001b[0m\u001b[1;33m\u001b[0m\u001b[0m\n\u001b[0m\u001b[0;32m      5\u001b[0m \u001b[0mplt\u001b[0m\u001b[1;33m.\u001b[0m\u001b[0mtitle\u001b[0m\u001b[1;33m(\u001b[0m\u001b[1;34m'Training History'\u001b[0m\u001b[1;33m)\u001b[0m\u001b[1;33m\u001b[0m\u001b[1;33m\u001b[0m\u001b[0m\n\u001b[0;32m      6\u001b[0m \u001b[0mplt\u001b[0m\u001b[1;33m.\u001b[0m\u001b[0mylabel\u001b[0m\u001b[1;33m(\u001b[0m\u001b[1;34m'Accuracy'\u001b[0m\u001b[1;33m)\u001b[0m\u001b[1;33m\u001b[0m\u001b[1;33m\u001b[0m\u001b[0m\n",
      "\u001b[1;31mKeyError\u001b[0m: 'val_accuracy'"
     ]
    },
    {
     "data": {
      "image/png": "[encoded data removed]",
      "text/plain": [
       "<Figure size 432x288 with 1 Axes>"
      ]
     },
     "metadata": {
      "needs_background": "light"
     },
     "output_type": "display_data"
    }
   ],
   "source": [
    "# Gráfica para visualizar el resultado del entrenamiento del modelo. \n",
    "n_skip = 0                 # Skip the first few steps.\n",
    "plt.plot(historia.history['accuracy'][n_skip:], c=\"b\")\n",
    "plt.plot(historia.history['val_accuracy'][n_skip:], c=\"g\")\n",
    "plt.title('Training History')\n",
    "plt.ylabel('Accuracy')\n",
    "plt.xlabel('Epoch')\n",
    "plt.legend(['Train', 'Validation'], loc='lower right')\n",
    "plt.show()"
   ]
  },
  {
   "cell_type": "markdown",
   "id": "73da161f",
   "metadata": {
    "id": "73da161f"
   },
   "source": [
    "**MÉTRICAS. Evaluación de los resultados con el conjunto de test**"
   ]
  },
  {
   "cell_type": "code",
   "execution_count": 44,
   "id": "e73013d3",
   "metadata": {
    "id": "e73013d3"
   },
   "outputs": [],
   "source": [
    "from sklearn.metrics import classification_report , confusion_matrix, multilabel_confusion_matrix"
   ]
  },
  {
   "cell_type": "code",
   "execution_count": 48,
   "id": "48956c49",
   "metadata": {
    "id": "48956c49"
   },
   "outputs": [],
   "source": [
    "y_pred = my_model.predict(X_scaled_test)\n",
    "y_pred = np.round(y_pred).astype(int)"
   ]
  },
  {
   "cell_type": "code",
   "execution_count": 49,
   "id": "7ba6817f",
   "metadata": {
    "id": "7ba6817f"
   },
   "outputs": [
    {
     "data": {
      "text/plain": [
       "{'benigno': {'precision': 0.9347826086956522,\n",
       "  'recall': 0.98005698005698,\n",
       "  'f1-score': 0.9568845618915162,\n",
       "  'support': 351},\n",
       " 'maligno': {'precision': 0.93,\n",
       "  'recall': 0.7948717948717948,\n",
       "  'f1-score': 0.8571428571428572,\n",
       "  'support': 117},\n",
       " 'micro avg': {'precision': 0.9337606837606838,\n",
       "  'recall': 0.9337606837606838,\n",
       "  'f1-score': 0.9337606837606838,\n",
       "  'support': 468},\n",
       " 'macro avg': {'precision': 0.9323913043478261,\n",
       "  'recall': 0.8874643874643875,\n",
       "  'f1-score': 0.9070137095171866,\n",
       "  'support': 468},\n",
       " 'weighted avg': {'precision': 0.9335869565217392,\n",
       "  'recall': 0.9337606837606838,\n",
       "  'f1-score': 0.9319491357043513,\n",
       "  'support': 468},\n",
       " 'samples avg': {'precision': 0.9337606837606838,\n",
       "  'recall': 0.9337606837606838,\n",
       "  'f1-score': 0.9337606837606838,\n",
       "  'support': 468}}"
      ]
     },
     "execution_count": 49,
     "metadata": {},
     "output_type": "execute_result"
    }
   ],
   "source": [
    "target_name = ['benigno','maligno']\n",
    "classification_report(y_true=y_test , y_pred=y_pred , output_dict=True , target_names= target_name )"
   ]
  },
  {
   "cell_type": "markdown",
   "id": "00006447",
   "metadata": {
    "id": "00006447"
   },
   "source": [
    "**matriz de confusión**"
   ]
  },
  {
   "cell_type": "code",
   "execution_count": 51,
   "id": "9d4bfa3c",
   "metadata": {
    "id": "9d4bfa3c"
   },
   "outputs": [
    {
     "data": {
      "text/plain": [
       "array([[[ 93,  24],\n",
       "        [  7, 344]],\n",
       "\n",
       "       [[344,   7],\n",
       "        [ 24,  93]]], dtype=int64)"
      ]
     },
     "execution_count": 51,
     "metadata": {},
     "output_type": "execute_result"
    }
   ],
   "source": [
    "multilabel_confusion_matrix(y_true=y_test, y_pred=y_pred)"
   ]
  },
  {
   "cell_type": "code",
   "execution_count": null,
   "id": "1bdd1484",
   "metadata": {},
   "outputs": [],
   "source": []
  }
 ],
 "metadata": {
  "accelerator": "GPU",
  "colab": {
   "collapsed_sections": [],
   "name": "Copia de Modelo_CNN_KFOLD_Oversampling.ipynb",
   "provenance": []
  },
  "kernelspec": {
   "display_name": "Python 3 (ipykernel)",
   "language": "python",
   "name": "python3"
  },
  "language_info": {
   "codemirror_mode": {
    "name": "ipython",
    "version": 3
   },
   "file_extension": ".py",
   "mimetype": "text/x-python",
   "name": "python",
   "nbconvert_exporter": "python",
   "pygments_lexer": "ipython3",
   "version": "3.7.11"
  }
 },
 "nbformat": 4,
 "nbformat_minor": 5
}
