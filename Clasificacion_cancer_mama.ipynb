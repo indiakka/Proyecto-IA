{
 "cells": [
  {
   "cell_type": "code",
   "execution_count": 3,
   "id": "e555d83f",
   "metadata": {
    "executionInfo": {
     "elapsed": 258,
     "status": "ok",
     "timestamp": 1638910719243,
     "user": {
      "displayName": "Zi Re",
      "photoUrl": "https://lh3.googleusercontent.com/a/default-user=s64",
      "userId": "15457632120979469374"
     },
     "user_tz": -60
    },
    "id": "e555d83f"
   },
   "outputs": [
    {
     "name": "stderr",
     "output_type": "stream",
     "text": [
      "Using TensorFlow backend.\n"
     ]
    }
   ],
   "source": [
    "import os , glob \n",
    "import numpy as np # linear algebra\n",
    "import pandas as pd # data processing, CSV file I/O (e.g. pd.read_csv)\n",
    "import matplotlib.pyplot as plt\n",
    "import seaborn as sns\n",
    "\n",
    "import skimage\n",
    "from skimage.io import imread , imread_collection \n",
    "\n",
    "from sklearn.metrics import accuracy_score , classification_report\n",
    "from sklearn.preprocessing import LabelEncoder,StandardScaler\n",
    "\n",
    "import keras\n",
    "from keras.applications import mobilenet\n",
    "from keras.layers import Dense ,Dropout\n",
    "from keras.models import Sequential"
   ]
  },
  {
   "cell_type": "code",
   "execution_count": 4,
   "id": "4c88f086",
   "metadata": {
    "executionInfo": {
     "elapsed": 2,
     "status": "ok",
     "timestamp": 1638910721385,
     "user": {
      "displayName": "Zi Re",
      "photoUrl": "https://lh3.googleusercontent.com/a/default-user=s64",
      "userId": "15457632120979469374"
     },
     "user_tz": -60
    },
    "id": "4c88f086"
   },
   "outputs": [],
   "source": [
    "from sklearn.model_selection import train_test_split\n",
    "from sklearn.linear_model import LogisticRegression"
   ]
  },
  {
   "cell_type": "code",
   "execution_count": 5,
   "id": "51b408b0",
   "metadata": {
    "colab": {
     "base_uri": "https://localhost:8080/"
    },
    "executionInfo": {
     "elapsed": 4,
     "status": "ok",
     "timestamp": 1638910721701,
     "user": {
      "displayName": "Zi Re",
      "photoUrl": "https://lh3.googleusercontent.com/a/default-user=s64",
      "userId": "15457632120979469374"
     },
     "user_tz": -60
    },
    "id": "51b408b0",
    "outputId": "18a0bc3d-1d06-4ae2-f9c8-3bfb4e55fd08"
   },
   "outputs": [],
   "source": [
    "#from google.colab import drive\n",
    "#drive.mount('/content/drive')"
   ]
  },
  {
   "cell_type": "code",
   "execution_count": 6,
   "id": "8c1de659",
   "metadata": {
    "executionInfo": {
     "elapsed": 2,
     "status": "ok",
     "timestamp": 1638910723887,
     "user": {
      "displayName": "Zi Re",
      "photoUrl": "https://lh3.googleusercontent.com/a/default-user=s64",
      "userId": "15457632120979469374"
     },
     "user_tz": -60
    },
    "id": "8c1de659"
   },
   "outputs": [],
   "source": [
    "os.chdir('C:\\\\Users\\\\Indiaka.TORRE-DAVID\\\\Desktop\\Datos')"
   ]
  },
  {
   "cell_type": "code",
   "execution_count": 7,
   "id": "a62122e2",
   "metadata": {
    "colab": {
     "base_uri": "https://localhost:8080/",
     "height": 35
    },
    "executionInfo": {
     "elapsed": 5,
     "status": "ok",
     "timestamp": 1638910724605,
     "user": {
      "displayName": "Zi Re",
      "photoUrl": "https://lh3.googleusercontent.com/a/default-user=s64",
      "userId": "15457632120979469374"
     },
     "user_tz": -60
    },
    "id": "a62122e2",
    "outputId": "10bec3ca-3b4e-4a3f-e9d1-56d7520901c5"
   },
   "outputs": [
    {
     "data": {
      "text/plain": [
       "'C:\\\\Users\\\\Indiaka.TORRE-DAVID\\\\Desktop\\\\Datos'"
      ]
     },
     "execution_count": 7,
     "metadata": {},
     "output_type": "execute_result"
    }
   ],
   "source": [
    "os.getcwd()"
   ]
  },
  {
   "cell_type": "code",
   "execution_count": 10,
   "id": "8c1e6bb6",
   "metadata": {
    "colab": {
     "base_uri": "https://localhost:8080/"
    },
    "executionInfo": {
     "elapsed": 3,
     "status": "ok",
     "timestamp": 1638910726953,
     "user": {
      "displayName": "Zi Re",
      "photoUrl": "https://lh3.googleusercontent.com/a/default-user=s64",
      "userId": "15457632120979469374"
     },
     "user_tz": -60
    },
    "id": "8c1e6bb6",
    "outputId": "786ae5c6-486b-437a-cdcd-e019948b771e"
   },
   "outputs": [
    {
     "name": "stdout",
     "output_type": "stream",
     "text": [
      "Number of the patient : 5\n"
     ]
    }
   ],
   "source": [
    "image_pathes ='C:\\\\Users\\\\Indiaka.TORRE-DAVID\\\\Desktop\\Datos\\\\cancer2\\\\*/'\n",
    "#image_pathes ='../cancer/cancer/*/'\n",
    "\n",
    "patient_list = list(glob.glob(image_pathes))\n",
    "print('Number of the patient :'+' '+str(len(patient_list)))\n"
   ]
  },
  {
   "cell_type": "code",
   "execution_count": 11,
   "id": "10c4a59a",
   "metadata": {
    "colab": {
     "base_uri": "https://localhost:8080/"
    },
    "executionInfo": {
     "elapsed": 19768,
     "status": "ok",
     "timestamp": 1638910748673,
     "user": {
      "displayName": "Zi Re",
      "photoUrl": "https://lh3.googleusercontent.com/a/default-user=s64",
      "userId": "15457632120979469374"
     },
     "user_tz": -60
    },
    "id": "10c4a59a",
    "outputId": "dd566481-ae3f-45a4-aca6-621f3156b7ab"
   },
   "outputs": [
    {
     "name": "stdout",
     "output_type": "stream",
     "text": [
      "2772\n"
     ]
    }
   ],
   "source": [
    "sum = 0\n",
    "for i in range(0 , len(patient_list)):\n",
    "    sum+=len(glob.glob(patient_list[i]+'/*/*'))\n",
    "print(sum)"
   ]
  },
  {
   "cell_type": "code",
   "execution_count": 12,
   "id": "e2216095",
   "metadata": {
    "executionInfo": {
     "elapsed": 224,
     "status": "ok",
     "timestamp": 1638910763737,
     "user": {
      "displayName": "Zi Re",
      "photoUrl": "https://lh3.googleusercontent.com/a/default-user=s64",
      "userId": "15457632120979469374"
     },
     "user_tz": -60
    },
    "id": "e2216095"
   },
   "outputs": [],
   "source": [
    "test=[glob.glob(patient_list[i]+'/*/*') for i in range(0,len(patient_list))]"
   ]
  },
  {
   "cell_type": "code",
   "execution_count": 18,
   "id": "F9iDnOGYXVLI",
   "metadata": {
    "colab": {
     "base_uri": "https://localhost:8080/",
     "height": 35
    },
    "executionInfo": {
     "elapsed": 234,
     "status": "ok",
     "timestamp": 1638911070618,
     "user": {
      "displayName": "Zi Re",
      "photoUrl": "https://lh3.googleusercontent.com/a/default-user=s64",
      "userId": "15457632120979469374"
     },
     "user_tz": -60
    },
    "id": "F9iDnOGYXVLI",
    "outputId": "fd80bec3-852a-41b4-c822-28d510b46669"
   },
   "outputs": [
    {
     "data": {
      "text/plain": [
       "'C:\\\\Users\\\\Indiaka.TORRE-DAVID\\\\Desktop\\\\Datos\\\\cancer2\\\\10253\\\\0\\\\10253_idx5_x1001_y1001_class0.png'"
      ]
     },
     "execution_count": 18,
     "metadata": {},
     "output_type": "execute_result"
    }
   ],
   "source": [
    "test[0][0]"
   ]
  },
  {
   "cell_type": "markdown",
   "id": "18bf0835",
   "metadata": {
    "id": "18bf0835"
   },
   "source": [
    "**Visualizacion de un ejemplo de nuestro dataset**"
   ]
  },
  {
   "cell_type": "code",
   "execution_count": 19,
   "id": "8ececaa3",
   "metadata": {
    "colab": {
     "base_uri": "https://localhost:8080/",
     "height": 313
    },
    "executionInfo": {
     "elapsed": 1028,
     "status": "ok",
     "timestamp": 1638911073625,
     "user": {
      "displayName": "Zi Re",
      "photoUrl": "https://lh3.googleusercontent.com/a/default-user=s64",
      "userId": "15457632120979469374"
     },
     "user_tz": -60
    },
    "id": "8ececaa3",
    "outputId": "57792afc-c0e1-4900-c7bf-0f771ee4b0d4"
   },
   "outputs": [
    {
     "data": {
      "text/plain": [
       "<matplotlib.image.AxesImage at 0x275955b2848>"
      ]
     },
     "execution_count": 19,
     "metadata": {},
     "output_type": "execute_result"
    },
    {
     "data": {
      "image/png": "[encoded data removed]",
      "text/plain": [
       "<Figure size 432x288 with 1 Axes>"
      ]
     },
     "metadata": {
      "needs_background": "light"
     },
     "output_type": "display_data"
    }
   ],
   "source": [
    "img_sample = imread(test[0][0])\n",
    "plt.title('patienID:'\n",
    "          +str(test[0][0].split('\\\\')[6])+'\\n'\n",
    "         'class:'+str(test[0][0].split('\\\\')[7]))\n",
    "plt.imshow(img_sample)"
   ]
  },
  {
   "cell_type": "markdown",
   "id": "afd3054a",
   "metadata": {
    "id": "afd3054a"
   },
   "source": [
    "**Crear un DataFrame para nuestro dataset**"
   ]
  },
  {
   "cell_type": "code",
   "execution_count": 20,
   "id": "8a6007f6",
   "metadata": {
    "executionInfo": {
     "elapsed": 242,
     "status": "ok",
     "timestamp": 1638911079099,
     "user": {
      "displayName": "Zi Re",
      "photoUrl": "https://lh3.googleusercontent.com/a/default-user=s64",
      "userId": "15457632120979469374"
     },
     "user_tz": -60
    },
    "id": "8a6007f6"
   },
   "outputs": [],
   "source": [
    "patient_ID = [test[i][x].split('\\\\')[6]for i in range(0,len(test))for x in range(0,len(test[i]))]\n",
    "class_test = [test[i][x].split('\\\\')[7]for i in range(0,len(test))for x in range(0 ,len(test[i]))]\n",
    "patient_pathes = [test[i][x]for i in range(0,len(test))for x in range(0,len(test[i]))]"
   ]
  },
  {
   "cell_type": "code",
   "execution_count": 21,
   "id": "5d2ae15a",
   "metadata": {
    "executionInfo": {
     "elapsed": 3,
     "status": "ok",
     "timestamp": 1638911080127,
     "user": {
      "displayName": "Zi Re",
      "photoUrl": "https://lh3.googleusercontent.com/a/default-user=s64",
      "userId": "15457632120979469374"
     },
     "user_tz": -60
    },
    "id": "5d2ae15a"
   },
   "outputs": [],
   "source": [
    "d = {'patient_ID':patient_ID,'pathes':patient_pathes,'diagnosis':class_test}\n",
    "BC_df = pd.DataFrame(data=d)"
   ]
  },
  {
   "cell_type": "code",
   "execution_count": 22,
   "id": "080336e4",
   "metadata": {
    "colab": {
     "base_uri": "https://localhost:8080/",
     "height": 220
    },
    "executionInfo": {
     "elapsed": 7,
     "status": "ok",
     "timestamp": 1638911081032,
     "user": {
      "displayName": "Zi Re",
      "photoUrl": "https://lh3.googleusercontent.com/a/default-user=s64",
      "userId": "15457632120979469374"
     },
     "user_tz": -60
    },
    "id": "080336e4",
    "outputId": "96d9620c-4838-42b8-f0f2-5a489b2fe56a",
    "scrolled": true
   },
   "outputs": [
    {
     "name": "stdout",
     "output_type": "stream",
     "text": [
      "The shape of our datset: (2772, 3)\n"
     ]
    },
    {
     "data": {
      "text/html": [
       "<div>\n",
       "<style scoped>\n",
       "    .dataframe tbody tr th:only-of-type {\n",
       "        vertical-align: middle;\n",
       "    }\n",
       "\n",
       "    .dataframe tbody tr th {\n",
       "        vertical-align: top;\n",
       "    }\n",
       "\n",
       "    .dataframe thead th {\n",
       "        text-align: right;\n",
       "    }\n",
       "</style>\n",
       "<table border=\"1\" class=\"dataframe\">\n",
       "  <thead>\n",
       "    <tr style=\"text-align: right;\">\n",
       "      <th></th>\n",
       "      <th>patient_ID</th>\n",
       "      <th>pathes</th>\n",
       "      <th>diagnosis</th>\n",
       "    </tr>\n",
       "  </thead>\n",
       "  <tbody>\n",
       "    <tr>\n",
       "      <th>0</th>\n",
       "      <td>10253</td>\n",
       "      <td>C:\\Users\\Indiaka.TORRE-DAVID\\Desktop\\Datos\\can...</td>\n",
       "      <td>0</td>\n",
       "    </tr>\n",
       "    <tr>\n",
       "      <th>1</th>\n",
       "      <td>10253</td>\n",
       "      <td>C:\\Users\\Indiaka.TORRE-DAVID\\Desktop\\Datos\\can...</td>\n",
       "      <td>0</td>\n",
       "    </tr>\n",
       "    <tr>\n",
       "      <th>2</th>\n",
       "      <td>10253</td>\n",
       "      <td>C:\\Users\\Indiaka.TORRE-DAVID\\Desktop\\Datos\\can...</td>\n",
       "      <td>0</td>\n",
       "    </tr>\n",
       "    <tr>\n",
       "      <th>3</th>\n",
       "      <td>10253</td>\n",
       "      <td>C:\\Users\\Indiaka.TORRE-DAVID\\Desktop\\Datos\\can...</td>\n",
       "      <td>0</td>\n",
       "    </tr>\n",
       "    <tr>\n",
       "      <th>4</th>\n",
       "      <td>10253</td>\n",
       "      <td>C:\\Users\\Indiaka.TORRE-DAVID\\Desktop\\Datos\\can...</td>\n",
       "      <td>0</td>\n",
       "    </tr>\n",
       "  </tbody>\n",
       "</table>\n",
       "</div>"
      ],
      "text/plain": [
       "  patient_ID                                             pathes diagnosis\n",
       "0      10253  C:\\Users\\Indiaka.TORRE-DAVID\\Desktop\\Datos\\can...         0\n",
       "1      10253  C:\\Users\\Indiaka.TORRE-DAVID\\Desktop\\Datos\\can...         0\n",
       "2      10253  C:\\Users\\Indiaka.TORRE-DAVID\\Desktop\\Datos\\can...         0\n",
       "3      10253  C:\\Users\\Indiaka.TORRE-DAVID\\Desktop\\Datos\\can...         0\n",
       "4      10253  C:\\Users\\Indiaka.TORRE-DAVID\\Desktop\\Datos\\can...         0"
      ]
     },
     "execution_count": 22,
     "metadata": {},
     "output_type": "execute_result"
    }
   ],
   "source": [
    "print('The shape of our datset:'+\" \"+str(BC_df.shape))\n",
    "BC_df.head()"
   ]
  },
  {
   "cell_type": "code",
   "execution_count": 23,
   "id": "8b80517e",
   "metadata": {
    "executionInfo": {
     "elapsed": 239,
     "status": "ok",
     "timestamp": 1638911083031,
     "user": {
      "displayName": "Zi Re",
      "photoUrl": "https://lh3.googleusercontent.com/a/default-user=s64",
      "userId": "15457632120979469374"
     },
     "user_tz": -60
    },
    "id": "8b80517e"
   },
   "outputs": [],
   "source": [
    "BC_df = BC_df[(BC_df['diagnosis']=='0')|(BC_df['diagnosis']=='1')]  "
   ]
  },
  {
   "cell_type": "code",
   "execution_count": 24,
   "id": "2df8f618",
   "metadata": {
    "colab": {
     "base_uri": "https://localhost:8080/",
     "height": 35
    },
    "executionInfo": {
     "elapsed": 241,
     "status": "ok",
     "timestamp": 1638911084990,
     "user": {
      "displayName": "Zi Re",
      "photoUrl": "https://lh3.googleusercontent.com/a/default-user=s64",
      "userId": "15457632120979469374"
     },
     "user_tz": -60
    },
    "id": "2df8f618",
    "outputId": "8c9fa106-70fe-40ce-ddb3-02146e965451"
   },
   "outputs": [
    {
     "data": {
      "text/plain": [
       "'C:\\\\Users\\\\Indiaka.TORRE-DAVID\\\\Desktop\\\\Datos'"
      ]
     },
     "execution_count": 24,
     "metadata": {},
     "output_type": "execute_result"
    }
   ],
   "source": [
    "os.getcwd()"
   ]
  },
  {
   "cell_type": "code",
   "execution_count": 25,
   "id": "d5c5f08c",
   "metadata": {
    "executionInfo": {
     "elapsed": 3,
     "status": "ok",
     "timestamp": 1638911085678,
     "user": {
      "displayName": "Zi Re",
      "photoUrl": "https://lh3.googleusercontent.com/a/default-user=s64",
      "userId": "15457632120979469374"
     },
     "user_tz": -60
    },
    "id": "d5c5f08c",
    "scrolled": true
   },
   "outputs": [],
   "source": [
    "BC_df.to_csv('Breat_cancer_data.csv')"
   ]
  },
  {
   "cell_type": "code",
   "execution_count": 26,
   "id": "43ec68e3",
   "metadata": {
    "colab": {
     "base_uri": "https://localhost:8080/"
    },
    "executionInfo": {
     "elapsed": 236,
     "status": "ok",
     "timestamp": 1638911096020,
     "user": {
      "displayName": "Zi Re",
      "photoUrl": "https://lh3.googleusercontent.com/a/default-user=s64",
      "userId": "15457632120979469374"
     },
     "user_tz": -60
    },
    "id": "43ec68e3",
    "outputId": "a09068b7-1ea9-4960-a73c-29aec2affcfb"
   },
   "outputs": [
    {
     "name": "stdout",
     "output_type": "stream",
     "text": [
      "The shape of new edited BC_df csv : (2772, 3)\n"
     ]
    }
   ],
   "source": [
    "print('The shape of new edited BC_df csv :'+' '+str(BC_df.shape))"
   ]
  },
  {
   "cell_type": "code",
   "execution_count": 27,
   "id": "4aae3411",
   "metadata": {
    "colab": {
     "base_uri": "https://localhost:8080/"
    },
    "executionInfo": {
     "elapsed": 2,
     "status": "ok",
     "timestamp": 1638911096937,
     "user": {
      "displayName": "Zi Re",
      "photoUrl": "https://lh3.googleusercontent.com/a/default-user=s64",
      "userId": "15457632120979469374"
     },
     "user_tz": -60
    },
    "id": "4aae3411",
    "outputId": "e599af63-4dcd-468a-a295-d7ac84315da7",
    "scrolled": true
   },
   "outputs": [
    {
     "data": {
      "text/plain": [
       "0    2210\n",
       "1     562\n",
       "Name: diagnosis, dtype: int64"
      ]
     },
     "execution_count": 27,
     "metadata": {},
     "output_type": "execute_result"
    }
   ],
   "source": [
    "BC_df['diagnosis'].value_counts()"
   ]
  },
  {
   "cell_type": "markdown",
   "id": "11e3ee98",
   "metadata": {
    "id": "11e3ee98"
   },
   "source": [
    " para la memoria: https://www.aprendemachinelearning.com/clasificacion-con-datos-desbalanceados/"
   ]
  }
 ],
 "metadata": {
  "colab": {
   "name": "Clasificacion_cancer_mama.ipynb",
   "provenance": []
  },
  "kernelspec": {
   "display_name": "Python 3 (ipykernel)",
   "language": "python",
   "name": "python3"
  },
  "language_info": {
   "codemirror_mode": {
    "name": "ipython",
    "version": 3
   },
   "file_extension": ".py",
   "mimetype": "text/x-python",
   "name": "python",
   "nbconvert_exporter": "python",
   "pygments_lexer": "ipython3",
   "version": "3.7.11"
  }
 },
 "nbformat": 4,
 "nbformat_minor": 5
}
