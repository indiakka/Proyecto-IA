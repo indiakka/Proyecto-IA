{
 "cells": [
  {
   "cell_type": "markdown",
   "id": "382924e2",
   "metadata": {
    "id": "382924e2"
   },
   "source": [
    "CLASIFICACIÓN CANCER DE MAMA CON EL MODELO PRE-ENTRENADO    VGG16"
   ]
  },
  {
   "cell_type": "code",
   "execution_count": 1,
   "id": "de764b6c",
   "metadata": {
    "id": "de764b6c"
   },
   "outputs": [
    {
     "name": "stderr",
     "output_type": "stream",
     "text": [
      "Using TensorFlow backend.\n"
     ]
    }
   ],
   "source": [
    "import tensorflow as tf\n",
    "import pandas as pd\n",
    "from glob import glob\n",
    "import matplotlib.pyplot as plt\n",
    "import random\n",
    "import warnings \n",
    "import os\n",
    "import numpy as np # linear algebra\n",
    "import pandas as pd # data processing, CSV file I/O (e.g. pd.read_csv)\n",
    "from sklearn.model_selection import train_test_split\n",
    "from keras.preprocessing.image import img_to_array\n",
    "from tensorflow.keras.utils import to_categorical\n",
    "import imblearn\n",
    "from imblearn.over_sampling import RandomOverSampler\n",
    "warnings.filterwarnings('ignore')                    # Turn the warnings off.\n",
    "%matplotlib inline"
   ]
  },
  {
   "cell_type": "code",
   "execution_count": 2,
   "id": "5054ed99",
   "metadata": {
    "id": "5054ed99"
   },
   "outputs": [],
   "source": [
    "# Set batch size for training and validation\n",
    "batch_size = 32"
   ]
  },
  {
   "cell_type": "code",
   "execution_count": 3,
   "id": "91d17e73",
   "metadata": {
    "colab": {
     "base_uri": "https://localhost:8080/"
    },
    "id": "91d17e73",
    "outputId": "9c5965cf-1612-4614-eedd-2a4768e37e2a"
   },
   "outputs": [],
   "source": [
    "#from google.colab import drive\n",
    "#drive.mount('/content/drive')"
   ]
  },
  {
   "cell_type": "code",
   "execution_count": 4,
   "id": "876531ea",
   "metadata": {},
   "outputs": [],
   "source": [
    "os.chdir('C:\\\\Users\\\\Indiaka.TORRE-DAVID\\\\Desktop\\Datos')"
   ]
  },
  {
   "cell_type": "code",
   "execution_count": 5,
   "id": "3f02d689",
   "metadata": {
    "id": "3f02d689"
   },
   "outputs": [],
   "source": [
    "#os.chdir('/content/drive/MyDrive/Datos')"
   ]
  },
  {
   "cell_type": "code",
   "execution_count": 6,
   "id": "6b2220a2",
   "metadata": {
    "colab": {
     "base_uri": "https://localhost:8080/",
     "height": 206
    },
    "id": "6b2220a2",
    "outputId": "7645699f-fefa-4093-ccd2-26774bfa227a"
   },
   "outputs": [
    {
     "data": {
      "text/html": [
       "<div>\n",
       "<style scoped>\n",
       "    .dataframe tbody tr th:only-of-type {\n",
       "        vertical-align: middle;\n",
       "    }\n",
       "\n",
       "    .dataframe tbody tr th {\n",
       "        vertical-align: top;\n",
       "    }\n",
       "\n",
       "    .dataframe thead th {\n",
       "        text-align: right;\n",
       "    }\n",
       "</style>\n",
       "<table border=\"1\" class=\"dataframe\">\n",
       "  <thead>\n",
       "    <tr style=\"text-align: right;\">\n",
       "      <th></th>\n",
       "      <th>Unnamed: 0</th>\n",
       "      <th>patient_ID</th>\n",
       "      <th>pathes</th>\n",
       "      <th>diagnosis</th>\n",
       "    </tr>\n",
       "  </thead>\n",
       "  <tbody>\n",
       "    <tr>\n",
       "      <th>0</th>\n",
       "      <td>0</td>\n",
       "      <td>10253</td>\n",
       "      <td>C:\\Users\\Indiaka.TORRE-DAVID\\Desktop\\Datos\\can...</td>\n",
       "      <td>0</td>\n",
       "    </tr>\n",
       "    <tr>\n",
       "      <th>1</th>\n",
       "      <td>1</td>\n",
       "      <td>10253</td>\n",
       "      <td>C:\\Users\\Indiaka.TORRE-DAVID\\Desktop\\Datos\\can...</td>\n",
       "      <td>0</td>\n",
       "    </tr>\n",
       "    <tr>\n",
       "      <th>2</th>\n",
       "      <td>2</td>\n",
       "      <td>10253</td>\n",
       "      <td>C:\\Users\\Indiaka.TORRE-DAVID\\Desktop\\Datos\\can...</td>\n",
       "      <td>0</td>\n",
       "    </tr>\n",
       "    <tr>\n",
       "      <th>3</th>\n",
       "      <td>3</td>\n",
       "      <td>10253</td>\n",
       "      <td>C:\\Users\\Indiaka.TORRE-DAVID\\Desktop\\Datos\\can...</td>\n",
       "      <td>0</td>\n",
       "    </tr>\n",
       "    <tr>\n",
       "      <th>4</th>\n",
       "      <td>4</td>\n",
       "      <td>10253</td>\n",
       "      <td>C:\\Users\\Indiaka.TORRE-DAVID\\Desktop\\Datos\\can...</td>\n",
       "      <td>0</td>\n",
       "    </tr>\n",
       "  </tbody>\n",
       "</table>\n",
       "</div>"
      ],
      "text/plain": [
       "   Unnamed: 0  patient_ID                                             pathes  \\\n",
       "0           0       10253  C:\\Users\\Indiaka.TORRE-DAVID\\Desktop\\Datos\\can...   \n",
       "1           1       10253  C:\\Users\\Indiaka.TORRE-DAVID\\Desktop\\Datos\\can...   \n",
       "2           2       10253  C:\\Users\\Indiaka.TORRE-DAVID\\Desktop\\Datos\\can...   \n",
       "3           3       10253  C:\\Users\\Indiaka.TORRE-DAVID\\Desktop\\Datos\\can...   \n",
       "4           4       10253  C:\\Users\\Indiaka.TORRE-DAVID\\Desktop\\Datos\\can...   \n",
       "\n",
       "   diagnosis  \n",
       "0          0  \n",
       "1          0  \n",
       "2          0  \n",
       "3          0  \n",
       "4          0  "
      ]
     },
     "execution_count": 6,
     "metadata": {},
     "output_type": "execute_result"
    }
   ],
   "source": [
    "BC_df_copy = pd.read_csv('C:\\\\Users\\\\Indiaka.TORRE-DAVID\\\\Desktop\\Datos\\\\Breat_cancer_data.csv')\n",
    "BC_df_copy.head()"
   ]
  },
  {
   "cell_type": "code",
   "execution_count": 7,
   "id": "80486395",
   "metadata": {
    "id": "80486395"
   },
   "outputs": [],
   "source": [
    "BC_df_copy = BC_df_copy.sort_values('patient_ID')"
   ]
  },
  {
   "cell_type": "code",
   "execution_count": 8,
   "id": "705231ef",
   "metadata": {
    "colab": {
     "base_uri": "https://localhost:8080/",
     "height": 81
    },
    "id": "705231ef",
    "outputId": "f2b2377f-d55a-4b6d-92cd-8189a09fd9c0"
   },
   "outputs": [
    {
     "data": {
      "text/html": [
       "<div>\n",
       "<style scoped>\n",
       "    .dataframe tbody tr th:only-of-type {\n",
       "        vertical-align: middle;\n",
       "    }\n",
       "\n",
       "    .dataframe tbody tr th {\n",
       "        vertical-align: top;\n",
       "    }\n",
       "\n",
       "    .dataframe thead th {\n",
       "        text-align: right;\n",
       "    }\n",
       "</style>\n",
       "<table border=\"1\" class=\"dataframe\">\n",
       "  <thead>\n",
       "    <tr style=\"text-align: right;\">\n",
       "      <th></th>\n",
       "      <th>Unnamed: 0</th>\n",
       "      <th>patient_ID</th>\n",
       "      <th>pathes</th>\n",
       "      <th>diagnosis</th>\n",
       "    </tr>\n",
       "  </thead>\n",
       "  <tbody>\n",
       "    <tr>\n",
       "      <th>1580</th>\n",
       "      <td>1580</td>\n",
       "      <td>10255</td>\n",
       "      <td>C:\\Users\\Indiaka.TORRE-DAVID\\Desktop\\Datos\\can...</td>\n",
       "      <td>1</td>\n",
       "    </tr>\n",
       "  </tbody>\n",
       "</table>\n",
       "</div>"
      ],
      "text/plain": [
       "      Unnamed: 0  patient_ID  \\\n",
       "1580        1580       10255   \n",
       "\n",
       "                                                 pathes  diagnosis  \n",
       "1580  C:\\Users\\Indiaka.TORRE-DAVID\\Desktop\\Datos\\can...          1  "
      ]
     },
     "execution_count": 8,
     "metadata": {},
     "output_type": "execute_result"
    }
   ],
   "source": [
    "BC_df_copy.iloc[1400:1401,:]"
   ]
  },
  {
   "cell_type": "code",
   "execution_count": 9,
   "id": "dae74fa6",
   "metadata": {
    "id": "dae74fa6"
   },
   "outputs": [],
   "source": [
    "from PIL.Image import open\n",
    "BC_df_copy['pixels'] =  BC_df_copy['pathes'].map(lambda x:np.asarray(open(x).resize((224,224))))"
   ]
  },
  {
   "cell_type": "code",
   "execution_count": 10,
   "id": "fFVeABZLjBFK",
   "metadata": {
    "id": "fFVeABZLjBFK"
   },
   "outputs": [],
   "source": [
    "BC_df_copy['diagnosisPaciente'] = BC_df_copy['diagnosis'].map(str) + \"_\" + BC_df_copy['patient_ID'].map(str)"
   ]
  },
  {
   "cell_type": "markdown",
   "id": "5556e188",
   "metadata": {
    "id": "5556e188"
   },
   "source": [
    "**CREACIÓN DE LOS CONJUNTOS DE DATOS**"
   ]
  },
  {
   "cell_type": "code",
   "execution_count": 11,
   "id": "829b89a3",
   "metadata": {
    "id": "829b89a3"
   },
   "outputs": [],
   "source": [
    "X = BC_df_copy['pixels']\n",
    "y = np.array(BC_df_copy['diagnosis'])"
   ]
  },
  {
   "cell_type": "code",
   "execution_count": 12,
   "id": "75a1494a",
   "metadata": {
    "colab": {
     "base_uri": "https://localhost:8080/"
    },
    "id": "75a1494a",
    "outputId": "f063edeb-e7f6-4d4e-de48-5449ebe450b8"
   },
   "outputs": [
    {
     "name": "stdout",
     "output_type": "stream",
     "text": [
      "La dimension de X_train : (1397,)\n",
      "La dimension de X_validation : (272,)\n",
      "La dimension de X_test : (468,)\n",
      "La dimension de y_train : (1397,)\n",
      "La dimension de y_validation : (272,)\n",
      "La dimension de y_test : (468,)\n"
     ]
    }
   ],
   "source": [
    "X_train = X[0:1397]\n",
    "X_validation = X[1397:1669]\n",
    "X_test = X[1669:2137]\n",
    "y_train =BC_df_copy['diagnosisPaciente'][0:1397]\n",
    "y_validation = y[1397:1669]\n",
    "y_test = y[1669:2137]\n",
    "C_validation = BC_df_copy['patient_ID'][1397:1669]\n",
    "\n",
    "print('La dimension de X_train :'+\" \"+str(X_train.shape))\n",
    "print('La dimension de X_validation :'+\" \"+str(X_validation.shape))\n",
    "print('La dimension de X_test :'+\" \"+str(X_test.shape))\n",
    "print('La dimension de y_train :'+\" \"+str(y_train.shape))\n",
    "print('La dimension de y_validation :'+\" \"+str(y_validation.shape))\n",
    "print('La dimension de y_test :'+\" \"+str(y_test.shape))"
   ]
  },
  {
   "cell_type": "code",
   "execution_count": 13,
   "id": "ff41be2a",
   "metadata": {
    "colab": {
     "base_uri": "https://localhost:8080/"
    },
    "id": "ff41be2a",
    "outputId": "049f76b5-39d2-4231-ed28-3ad00859e1f0"
   },
   "outputs": [
    {
     "name": "stdout",
     "output_type": "stream",
     "text": [
      "Numero de imágenes para train: 1397         \n",
      "Numero de imágenes para validation: 272         \n",
      "Numero de imágenes para test: 468         \n",
      "Numero de clases: 2         \n",
      "Numero de iteraciones por época: 43\n"
     ]
    }
   ],
   "source": [
    "#información relevante\n",
    "num_train = len((X_train))\n",
    "num_validation = len((X_validation))\n",
    "num_test = len((X_test))\n",
    "num_classes = 2\n",
    "num_iterations = int(num_train/batch_size)\n",
    "\n",
    "# Print important info\n",
    "print(f'Numero de imágenes para train: {num_train} \\\n",
    "        \\nNumero de imágenes para validation: {num_validation} \\\n",
    "        \\nNumero de imágenes para test: {num_test} \\\n",
    "        \\nNumero de clases: {num_classes} \\\n",
    "        \\nNumero de iteraciones por época: {num_iterations}')"
   ]
  },
  {
   "cell_type": "code",
   "execution_count": 14,
   "id": "0b67589c",
   "metadata": {
    "colab": {
     "base_uri": "https://localhost:8080/"
    },
    "id": "0b67589c",
    "outputId": "390ed62e-5021-40d5-c73d-fd76b0ec5faa"
   },
   "outputs": [
    {
     "name": "stdout",
     "output_type": "stream",
     "text": [
      "(1397, 224, 224, 3)\n"
     ]
    }
   ],
   "source": [
    "# training set\n",
    "img_list = []\n",
    "for i in range (0,len(X_train)):\n",
    "    brain_img =np.array(X_train)[i]\n",
    "    img_arr = img_to_array(brain_img/255).astype(np.float32)\n",
    "    img_list.append(img_arr)\n",
    "X_scaled = np.array(img_list)\n",
    "\n",
    "print(X_scaled.shape)"
   ]
  },
  {
   "cell_type": "code",
   "execution_count": 15,
   "id": "8dba1536",
   "metadata": {
    "colab": {
     "base_uri": "https://localhost:8080/"
    },
    "id": "8dba1536",
    "outputId": "3aa25061-50b3-4159-b18b-82473561c309"
   },
   "outputs": [
    {
     "name": "stdout",
     "output_type": "stream",
     "text": [
      "(272, 224, 224, 3)\n"
     ]
    }
   ],
   "source": [
    "# validation set\n",
    "img_validation = []\n",
    "for i in range (0,len(X_validation)):\n",
    "    brain_img_validation =np.array(X_validation)[i]\n",
    "    img_validation_arr = img_to_array(brain_img_validation/255).astype(np.float32)\n",
    "    img_validation.append((img_validation_arr))\n",
    "X_scaled_validation = np.array(img_validation)\n",
    "\n",
    "print(X_scaled_validation.shape)"
   ]
  },
  {
   "cell_type": "code",
   "execution_count": 16,
   "id": "94f41644",
   "metadata": {
    "colab": {
     "base_uri": "https://localhost:8080/"
    },
    "id": "94f41644",
    "outputId": "01bf1b83-75ef-4f0f-c7a3-446c34809f1c"
   },
   "outputs": [
    {
     "name": "stdout",
     "output_type": "stream",
     "text": [
      "(468, 224, 224, 3)\n"
     ]
    }
   ],
   "source": [
    "# test set\n",
    "img_test = []\n",
    "for i in range (0,len(X_test)):\n",
    "    brain_img_test =np.array(X_test)[i]\n",
    "    img_test_arr = img_to_array(brain_img_test/255).astype(np.float32)\n",
    "    img_test.append((img_test_arr))\n",
    "X_scaled_test = np.array(img_test)\n",
    "\n",
    "print(X_scaled_test.shape)"
   ]
  },
  {
   "cell_type": "markdown",
   "id": "329f03cb",
   "metadata": {
    "id": "329f03cb"
   },
   "source": [
    "****Balanceo de datos para el train set****"
   ]
  },
  {
   "cell_type": "code",
   "execution_count": 17,
   "id": "d71abeda",
   "metadata": {
    "id": "d71abeda"
   },
   "outputs": [],
   "source": [
    "X_train_shape = X_scaled.shape[1]*X_scaled.shape[2]*X_scaled.shape[3]\n",
    "X_Flatten = X_scaled.reshape(X_scaled.shape[0],X_train_shape)"
   ]
  },
  {
   "cell_type": "code",
   "execution_count": 18,
   "id": "308ade69",
   "metadata": {
    "id": "308ade69"
   },
   "outputs": [],
   "source": [
    "ros = RandomOverSampler(random_state=10)\n",
    "X_train_res, y_train = ros.fit_resample(X_Flatten, y_train)"
   ]
  },
  {
   "cell_type": "code",
   "execution_count": 19,
   "id": "2f632a3c",
   "metadata": {
    "colab": {
     "base_uri": "https://localhost:8080/"
    },
    "id": "2f632a3c",
    "outputId": "ef47c635-3086-4f06-9a2f-8156d3a951b0"
   },
   "outputs": [
    {
     "name": "stdout",
     "output_type": "stream",
     "text": [
      "The shape of the training set after reshape it : (3088, 224, 224, 3)\n"
     ]
    }
   ],
   "source": [
    "row,col,channel = 224 ,224 , 3 \n",
    "X_scaled = X_train_res.reshape(len(X_train_res),row,col,channel)\n",
    "# chec the shape of our training set\n",
    "print('The shape of the training set after reshape it :'+\" \"+str(X_scaled.shape))"
   ]
  },
  {
   "cell_type": "markdown",
   "id": "S6HpAGYCjVMb",
   "metadata": {
    "id": "S6HpAGYCjVMb"
   },
   "source": [
    "Separar los campos en diagnosis y codigo paciente"
   ]
  },
  {
   "cell_type": "code",
   "execution_count": 20,
   "id": "tvCMdkL1jXF6",
   "metadata": {
    "id": "tvCMdkL1jXF6"
   },
   "outputs": [],
   "source": [
    "C_train = y_train.str.split(\"_\",1).str[1]"
   ]
  },
  {
   "cell_type": "code",
   "execution_count": 21,
   "id": "gObYKTNxjW6i",
   "metadata": {
    "id": "gObYKTNxjW6i"
   },
   "outputs": [],
   "source": [
    "y_train = y_train.str.split(\"_\",1).str[0]"
   ]
  },
  {
   "cell_type": "markdown",
   "id": "mmA3BLxwjiGa",
   "metadata": {
    "id": "mmA3BLxwjiGa"
   },
   "source": [
    "Unir los conjuntos de train y validation para hacer posteriormente el k-fold\n",
    "\n"
   ]
  },
  {
   "cell_type": "code",
   "execution_count": 22,
   "id": "nJWR0nnTjikb",
   "metadata": {
    "id": "nJWR0nnTjikb"
   },
   "outputs": [],
   "source": [
    "C_total = np.concatenate((C_train,C_validation), axis =0)"
   ]
  },
  {
   "cell_type": "code",
   "execution_count": 23,
   "id": "S56f8k41jjtx",
   "metadata": {
    "id": "S56f8k41jjtx"
   },
   "outputs": [],
   "source": [
    "C_total = np.array(C_total).astype(int)"
   ]
  },
  {
   "cell_type": "code",
   "execution_count": 24,
   "id": "9joAWri2jjcy",
   "metadata": {
    "id": "9joAWri2jjcy"
   },
   "outputs": [],
   "source": [
    "y_train = np.concatenate((y_train,y_validation), axis =0)"
   ]
  },
  {
   "cell_type": "code",
   "execution_count": 25,
   "id": "t6aarv0cji8R",
   "metadata": {
    "id": "t6aarv0cji8R"
   },
   "outputs": [],
   "source": [
    "X_scaled = np.concatenate((X_scaled,X_scaled_validation), axis =0)"
   ]
  },
  {
   "cell_type": "markdown",
   "id": "7965ca57",
   "metadata": {
    "id": "7965ca57"
   },
   "source": [
    "**one-hot-encoding**"
   ]
  },
  {
   "cell_type": "code",
   "execution_count": 26,
   "id": "85rzcYUjHe9h",
   "metadata": {
    "colab": {
     "base_uri": "https://localhost:8080/"
    },
    "id": "85rzcYUjHe9h",
    "outputId": "c2fd4261-7dda-40d7-93e6-51df934fa007"
   },
   "outputs": [
    {
     "name": "stdout",
     "output_type": "stream",
     "text": [
      "(3360, 2)\n",
      "(468, 2)\n"
     ]
    }
   ],
   "source": [
    "y_train = to_categorical(y_train, num_classes=2)\n",
    "y_test = to_categorical(y_test, num_classes=2)\n",
    "print(y_train.shape)\n",
    "print(y_test.shape)"
   ]
  },
  {
   "cell_type": "markdown",
   "id": "975c58e8",
   "metadata": {
    "id": "975c58e8"
   },
   "source": [
    "**CREACIÓN y ENTRENAMIENTO DEL MODELO**"
   ]
  },
  {
   "cell_type": "code",
   "execution_count": 27,
   "id": "5db1464b",
   "metadata": {
    "id": "5db1464b"
   },
   "outputs": [],
   "source": [
    "from tensorflow.keras.optimizers import Adam, RMSprop, SGD\n",
    "from tensorflow.keras.models import Sequential\n",
    "from tensorflow.keras.layers import Dense\n",
    "from tensorflow.keras.applications.vgg16 import VGG16"
   ]
  },
  {
   "cell_type": "code",
   "execution_count": 28,
   "id": "TFGKsmwpnLLN",
   "metadata": {
    "id": "TFGKsmwpnLLN"
   },
   "outputs": [],
   "source": [
    "from sklearn.model_selection import GroupKFold"
   ]
  },
  {
   "cell_type": "code",
   "execution_count": 29,
   "id": "4eb00879",
   "metadata": {
    "id": "4eb00879"
   },
   "outputs": [],
   "source": [
    "input_shape=(224,224,3)\n",
    "validation_processed = (X_scaled_validation,y_validation)\n",
    "epocas = 24\n",
    "learn_rate = 0.0002"
   ]
  },
  {
   "cell_type": "code",
   "execution_count": 30,
   "id": "71743950",
   "metadata": {
    "colab": {
     "base_uri": "https://localhost:8080/"
    },
    "id": "71743950",
    "outputId": "7e2cdf2c-6837-4515-e13d-7de3e4b0e085"
   },
   "outputs": [],
   "source": [
    "pre_trained_model = VGG16(include_top=False, weights=\"imagenet\", pooling='avg', input_shape=input_shape)\n",
    "pre_trained_model.trainable = False"
   ]
  },
  {
   "cell_type": "code",
   "execution_count": 31,
   "id": "7d15016e",
   "metadata": {
    "id": "7d15016e"
   },
   "outputs": [],
   "source": [
    "my_optimizer=Adam(lr=learn_rate)"
   ]
  },
  {
   "cell_type": "code",
   "execution_count": 34,
   "id": "439c3a64",
   "metadata": {
    "colab": {
     "base_uri": "https://localhost:8080/"
    },
    "id": "439c3a64",
    "outputId": "ab28f6ae-6235-4c64-e23c-ff3bea05f3c7"
   },
   "outputs": [
    {
     "name": "stdout",
     "output_type": "stream",
     "text": [
      "Train on 1816 samples\n",
      "Epoch 1/24\n",
      "1816/1816 - 74s - loss: 0.6806 - accuracy: 0.5661\n",
      "Epoch 2/24\n",
      "1816/1816 - 73s - loss: 0.6274 - accuracy: 0.7054\n",
      "Epoch 3/24\n",
      "1816/1816 - 73s - loss: 0.5818 - accuracy: 0.8023\n",
      "Epoch 4/24\n",
      "1816/1816 - 73s - loss: 0.5438 - accuracy: 0.8546\n",
      "Epoch 5/24\n",
      "1816/1816 - 72s - loss: 0.5102 - accuracy: 0.8634\n",
      "Epoch 6/24\n",
      "1816/1816 - 74s - loss: 0.4817 - accuracy: 0.8612\n",
      "Epoch 7/24\n",
      "1816/1816 - 77s - loss: 0.4574 - accuracy: 0.8888\n",
      "Epoch 8/24\n",
      "1816/1816 - 75s - loss: 0.4361 - accuracy: 0.8893\n",
      "Epoch 9/24\n",
      "1816/1816 - 74s - loss: 0.4173 - accuracy: 0.8970\n",
      "Epoch 10/24\n",
      "1816/1816 - 74s - loss: 0.4012 - accuracy: 0.9003\n",
      "Epoch 11/24\n",
      "1816/1816 - 73s - loss: 0.3873 - accuracy: 0.9009\n",
      "Epoch 12/24\n",
      "1816/1816 - 73s - loss: 0.3746 - accuracy: 0.8992\n",
      "Epoch 13/24\n",
      "1816/1816 - 75s - loss: 0.3632 - accuracy: 0.9014\n",
      "Epoch 14/24\n",
      "1816/1816 - 74s - loss: 0.3534 - accuracy: 0.9003\n",
      "Epoch 15/24\n",
      "1816/1816 - 74s - loss: 0.3441 - accuracy: 0.8987\n",
      "Epoch 16/24\n",
      "1816/1816 - 73s - loss: 0.3360 - accuracy: 0.9025\n",
      "Epoch 17/24\n",
      "1816/1816 - 72s - loss: 0.3284 - accuracy: 0.9020\n",
      "Epoch 18/24\n",
      "1816/1816 - 72s - loss: 0.3218 - accuracy: 0.9014\n",
      "Epoch 19/24\n",
      "1816/1816 - 73s - loss: 0.3159 - accuracy: 0.9009\n",
      "Epoch 20/24\n",
      "1816/1816 - 73s - loss: 0.3096 - accuracy: 0.9031\n",
      "Epoch 21/24\n",
      "1816/1816 - 73s - loss: 0.3043 - accuracy: 0.9058\n",
      "Epoch 22/24\n",
      "1816/1816 - 77s - loss: 0.2999 - accuracy: 0.9053\n",
      "Epoch 23/24\n",
      "1816/1816 - 74s - loss: 0.2946 - accuracy: 0.9047\n",
      "Epoch 24/24\n",
      "1816/1816 - 71s - loss: 0.2903 - accuracy: 0.9064\n",
      "accuracy: 85.23%\n",
      "85.23% (+/- 0.00%)\n",
      "Train on 1816 samples\n",
      "Epoch 1/24\n",
      "1816/1816 - 67s - loss: 0.3291 - accuracy: 0.8827\n",
      "Epoch 2/24\n",
      "1816/1816 - 67s - loss: 0.2946 - accuracy: 0.9047\n",
      "Epoch 3/24\n",
      "1816/1816 - 67s - loss: 0.2768 - accuracy: 0.9119\n",
      "Epoch 4/24\n",
      "1816/1816 - 66s - loss: 0.2648 - accuracy: 0.9135\n",
      "Epoch 5/24\n",
      "1816/1816 - 67s - loss: 0.2562 - accuracy: 0.9141\n",
      "Epoch 6/24\n",
      "1816/1816 - 71s - loss: 0.2489 - accuracy: 0.9146\n",
      "Epoch 7/24\n",
      "1816/1816 - 69s - loss: 0.2430 - accuracy: 0.9163\n",
      "Epoch 8/24\n",
      "1816/1816 - 68s - loss: 0.2382 - accuracy: 0.9180\n",
      "Epoch 9/24\n",
      "1816/1816 - 69s - loss: 0.2336 - accuracy: 0.9185\n",
      "Epoch 10/24\n",
      "1816/1816 - 69s - loss: 0.2299 - accuracy: 0.9185\n",
      "Epoch 11/24\n",
      "1816/1816 - 68s - loss: 0.2264 - accuracy: 0.9196\n",
      "Epoch 12/24\n",
      "1816/1816 - 68s - loss: 0.2234 - accuracy: 0.9196\n",
      "Epoch 13/24\n",
      "1816/1816 - 68s - loss: 0.2203 - accuracy: 0.9251\n",
      "Epoch 14/24\n",
      "1816/1816 - 67s - loss: 0.2175 - accuracy: 0.9268\n",
      "Epoch 15/24\n",
      "1816/1816 - 67s - loss: 0.2151 - accuracy: 0.9268\n",
      "Epoch 16/24\n",
      "1816/1816 - 66s - loss: 0.2128 - accuracy: 0.9306\n",
      "Epoch 17/24\n",
      "1816/1816 - 66s - loss: 0.2105 - accuracy: 0.9284\n",
      "Epoch 18/24\n",
      "1816/1816 - 67s - loss: 0.2086 - accuracy: 0.9295\n",
      "Epoch 19/24\n",
      "1816/1816 - 67s - loss: 0.2071 - accuracy: 0.9301\n",
      "Epoch 20/24\n",
      "1816/1816 - 67s - loss: 0.2045 - accuracy: 0.9306\n",
      "Epoch 21/24\n",
      "1816/1816 - 67s - loss: 0.2031 - accuracy: 0.9317\n",
      "Epoch 22/24\n",
      "1816/1816 - 67s - loss: 0.2010 - accuracy: 0.9290\n",
      "Epoch 23/24\n",
      "1816/1816 - 67s - loss: 0.1993 - accuracy: 0.9317\n",
      "Epoch 24/24\n",
      "1816/1816 - 67s - loss: 0.1979 - accuracy: 0.9317\n",
      "accuracy: 78.63%\n",
      "81.93% (+/- 3.30%)\n",
      "Train on 3088 samples\n",
      "Epoch 1/24\n",
      "3088/3088 - 120s - loss: 0.2858 - accuracy: 0.8688\n",
      "Epoch 2/24\n",
      "3088/3088 - 120s - loss: 0.2614 - accuracy: 0.8847\n",
      "Epoch 3/24\n",
      "3088/3088 - 120s - loss: 0.2491 - accuracy: 0.8915\n",
      "Epoch 4/24\n",
      "3088/3088 - 120s - loss: 0.2419 - accuracy: 0.8951\n",
      "Epoch 5/24\n",
      "3088/3088 - 121s - loss: 0.2375 - accuracy: 0.9061\n",
      "Epoch 6/24\n",
      "3088/3088 - 120s - loss: 0.2335 - accuracy: 0.9113\n",
      "Epoch 7/24\n",
      "3088/3088 - 120s - loss: 0.2303 - accuracy: 0.9165\n",
      "Epoch 8/24\n",
      "3088/3088 - 120s - loss: 0.2276 - accuracy: 0.9197\n",
      "Epoch 9/24\n",
      "3088/3088 - 121s - loss: 0.2248 - accuracy: 0.9226\n",
      "Epoch 10/24\n",
      "3088/3088 - 121s - loss: 0.2229 - accuracy: 0.9226\n",
      "Epoch 11/24\n",
      "3088/3088 - 120s - loss: 0.2204 - accuracy: 0.9245\n",
      "Epoch 12/24\n",
      "3088/3088 - 120s - loss: 0.2186 - accuracy: 0.9242\n",
      "Epoch 13/24\n",
      "3088/3088 - 120s - loss: 0.2165 - accuracy: 0.9229\n",
      "Epoch 14/24\n",
      "3088/3088 - 121s - loss: 0.2144 - accuracy: 0.9255\n",
      "Epoch 15/24\n",
      "3088/3088 - 121s - loss: 0.2126 - accuracy: 0.9245\n",
      "Epoch 16/24\n",
      "3088/3088 - 120s - loss: 0.2110 - accuracy: 0.9220\n",
      "Epoch 17/24\n",
      "3088/3088 - 121s - loss: 0.2091 - accuracy: 0.9226\n",
      "Epoch 18/24\n",
      "3088/3088 - 121s - loss: 0.2078 - accuracy: 0.9236\n",
      "Epoch 19/24\n",
      "3088/3088 - 122s - loss: 0.2060 - accuracy: 0.9220\n",
      "Epoch 20/24\n",
      "3088/3088 - 122s - loss: 0.2044 - accuracy: 0.9213\n",
      "Epoch 21/24\n",
      "3088/3088 - 121s - loss: 0.2029 - accuracy: 0.9239\n",
      "Epoch 22/24\n",
      "3088/3088 - 121s - loss: 0.2020 - accuracy: 0.9223\n",
      "Epoch 23/24\n",
      "3088/3088 - 121s - loss: 0.2002 - accuracy: 0.9242\n",
      "Epoch 24/24\n",
      "3088/3088 - 121s - loss: 0.1989 - accuracy: 0.9233\n",
      "accuracy: 79.78%\n",
      "81.21% (+/- 2.88%)\n"
     ]
    }
   ],
   "source": [
    "clasificacion_model = tf.keras.models.Sequential()\n",
    "clasificacion_model.add(pre_trained_model)\n",
    "clasificacion_model.add(tf.keras.layers.Dense(num_classes, activation='softmax'))\n",
    "clasificacion_model.compile(optimizer = my_optimizer,loss='binary_crossentropy', metrics=['accuracy'])\n",
    "groups = C_total\n",
    "group_kfold = GroupKFold(n_splits= 3)\n",
    "cvscores = []\n",
    "for train,validacion  in group_kfold.split(X_scaled,y_train, groups):\n",
    "  historia = clasificacion_model.fit(X_scaled[train],y_train[train], epochs=epocas, batch_size=batch_size, verbose=2)\n",
    "  resTest = clasificacion_model.evaluate(X_scaled[validacion], y_train[validacion], verbose = 0)\n",
    "  print(\"%s: %.2f%%\" % (clasificacion_model.metrics_names[1], resTest[1]*100))\n",
    "  cvscores.append(resTest[1]*100)\n",
    "  print(\"%.2f%% (+/- %.2f%%)\" % (np.mean(cvscores), np.std(cvscores)))"
   ]
  },
  {
   "cell_type": "code",
   "execution_count": 35,
   "id": "KA0RJqG3kxGf",
   "metadata": {
    "id": "KA0RJqG3kxGf"
   },
   "outputs": [
    {
     "data": {
      "text/plain": [
       "[85.23315787315369, 78.62694263458252, 79.77941036224365]"
      ]
     },
     "execution_count": 35,
     "metadata": {},
     "output_type": "execute_result"
    }
   ],
   "source": [
    "cvscores"
   ]
  },
  {
   "cell_type": "code",
   "execution_count": null,
   "id": "rxHdZR-Ckw-1",
   "metadata": {
    "id": "rxHdZR-Ckw-1"
   },
   "outputs": [],
   "source": []
  },
  {
   "cell_type": "code",
   "execution_count": null,
   "id": "PXQB6Ix6kw2d",
   "metadata": {
    "id": "PXQB6Ix6kw2d"
   },
   "outputs": [],
   "source": []
  },
  {
   "cell_type": "markdown",
   "id": "02ecba52",
   "metadata": {
    "id": "02ecba52"
   },
   "source": [
    "**GRÁFICAS. Evaluación de los resultados con el conjunto de validación**"
   ]
  },
  {
   "cell_type": "code",
   "execution_count": 36,
   "id": "12338b89",
   "metadata": {
    "colab": {
     "base_uri": "https://localhost:8080/"
    },
    "id": "12338b89",
    "outputId": "114cead4-7f98-41af-e247-afca6a4984c6"
   },
   "outputs": [
    {
     "ename": "KeyError",
     "evalue": "'val_accuracy'",
     "output_type": "error",
     "traceback": [
      "\u001b[1;31m---------------------------------------------------------------------------\u001b[0m",
      "\u001b[1;31mKeyError\u001b[0m                                  Traceback (most recent call last)",
      "\u001b[1;32mC:\\Users\\INDIAK~1.TOR\\AppData\\Local\\Temp/ipykernel_7348/302037166.py\u001b[0m in \u001b[0;36m<module>\u001b[1;34m\u001b[0m\n\u001b[1;32m----> 1\u001b[1;33m \u001b[0maccuracy_validation\u001b[0m \u001b[1;33m=\u001b[0m \u001b[0mhistoria\u001b[0m\u001b[1;33m.\u001b[0m\u001b[0mhistory\u001b[0m\u001b[1;33m[\u001b[0m\u001b[1;34m'val_accuracy'\u001b[0m\u001b[1;33m]\u001b[0m\u001b[1;33m[\u001b[0m\u001b[1;33m-\u001b[0m\u001b[1;36m1\u001b[0m\u001b[1;33m]\u001b[0m\u001b[1;33m\u001b[0m\u001b[1;33m\u001b[0m\u001b[0m\n\u001b[0m\u001b[0;32m      2\u001b[0m \u001b[0maccuracy_validation\u001b[0m\u001b[1;33m\u001b[0m\u001b[1;33m\u001b[0m\u001b[0m\n",
      "\u001b[1;31mKeyError\u001b[0m: 'val_accuracy'"
     ]
    }
   ],
   "source": [
    "accuracy_validation = historia.history['val_accuracy'][-1]\n",
    "accuracy_validation"
   ]
  },
  {
   "cell_type": "code",
   "execution_count": null,
   "id": "97a04238",
   "metadata": {
    "colab": {
     "base_uri": "https://localhost:8080/",
     "height": 295
    },
    "id": "97a04238",
    "outputId": "b5635e42-daea-4532-8e14-88a8f36c848a"
   },
   "outputs": [
    {
     "data": {
      "image/png": "[encoded data removed]",
      "text/plain": [
       "<Figure size 432x288 with 1 Axes>"
      ]
     },
     "metadata": {
      "needs_background": "light"
     },
     "output_type": "display_data"
    }
   ],
   "source": [
    "# Gráfica para visualizar el resultado del entrenamiento del modelo. \n",
    "n_skip = 0                 # Skip the first few steps.\n",
    "plt.plot(historia.history['accuracy'][n_skip:], c=\"b\")\n",
    "plt.plot(historia.history['val_accuracy'][n_skip:], c=\"g\")\n",
    "plt.title('Training History')\n",
    "plt.ylabel('Accuracy')\n",
    "plt.xlabel('Epoch')\n",
    "plt.legend(['Train', 'Validation'], loc='lower right')\n",
    "plt.show()"
   ]
  },
  {
   "cell_type": "code",
   "execution_count": null,
   "id": "7fzhI24xb81D",
   "metadata": {
    "colab": {
     "base_uri": "https://localhost:8080/",
     "height": 295
    },
    "id": "7fzhI24xb81D",
    "outputId": "f3a66214-2575-4533-9dab-20f891063bc1"
   },
   "outputs": [
    {
     "data": {
      "image/png": "[encoded data removed]",
      "text/plain": [
       "<Figure size 432x288 with 1 Axes>"
      ]
     },
     "metadata": {
      "needs_background": "light"
     },
     "output_type": "display_data"
    }
   ],
   "source": [
    "# Gráfica para visualizar el resultado del entrenamiento del modelo. \n",
    "n_skip = 0                 # Skip the first few steps.\n",
    "plt.plot(historia.history['loss'][n_skip:], c=\"b\")\n",
    "plt.plot(historia.history['val_loss'][n_skip:], c=\"g\")\n",
    "plt.title('Training History')\n",
    "plt.ylabel('Loss')\n",
    "plt.xlabel('Epoch')\n",
    "plt.legend(['Train', 'Validation'], loc='lower right')\n",
    "plt.show()"
   ]
  },
  {
   "cell_type": "markdown",
   "id": "73da161f",
   "metadata": {
    "id": "73da161f"
   },
   "source": [
    "**MÉTRICAS. Evaluación de los resultados con el conjunto de test**"
   ]
  },
  {
   "cell_type": "code",
   "execution_count": 37,
   "id": "e73013d3",
   "metadata": {
    "id": "e73013d3"
   },
   "outputs": [],
   "source": [
    "from sklearn.metrics import classification_report , confusion_matrix, multilabel_confusion_matrix"
   ]
  },
  {
   "cell_type": "code",
   "execution_count": 38,
   "id": "154eb216",
   "metadata": {
    "colab": {
     "base_uri": "https://localhost:8080/"
    },
    "id": "154eb216",
    "outputId": "7258e292-c96e-4d91-8f14-6fcc9172cfce"
   },
   "outputs": [
    {
     "name": "stdout",
     "output_type": "stream",
     "text": [
      "468/468 [==============================] - 19s 40ms/sample - loss: 0.3369 - accuracy: 0.8526\n",
      "loss en la evaluacion : 33.685449453500595\n",
      "accuracy en la evaluacion : 85.25640964508057\n"
     ]
    }
   ],
   "source": [
    "eval_score = clasificacion_model.evaluate(X_scaled_test,y_test)\n",
    "print('loss en la evaluacion :'+' '+str(eval_score[0]*100))\n",
    "print('accuracy en la evaluacion :'+' '+str(eval_score[1]*100))"
   ]
  },
  {
   "cell_type": "code",
   "execution_count": 39,
   "id": "48956c49",
   "metadata": {
    "id": "48956c49"
   },
   "outputs": [],
   "source": [
    "y_pred = clasificacion_model.predict(X_scaled_test)\n",
    "y_pred = np.round(y_pred).astype(int)"
   ]
  },
  {
   "cell_type": "code",
   "execution_count": 40,
   "id": "7ba6817f",
   "metadata": {
    "colab": {
     "base_uri": "https://localhost:8080/"
    },
    "id": "7ba6817f",
    "outputId": "5ea8a108-05ad-4220-bb36-4af2ed78480f"
   },
   "outputs": [
    {
     "data": {
      "text/plain": [
       "{'benigno': {'precision': 0.9433962264150944,\n",
       "  'recall': 0.8547008547008547,\n",
       "  'f1-score': 0.8968609865470852,\n",
       "  'support': 351},\n",
       " 'maligno': {'precision': 0.66,\n",
       "  'recall': 0.8461538461538461,\n",
       "  'f1-score': 0.7415730337078651,\n",
       "  'support': 117},\n",
       " 'micro avg': {'precision': 0.8525641025641025,\n",
       "  'recall': 0.8525641025641025,\n",
       "  'f1-score': 0.8525641025641025,\n",
       "  'support': 468},\n",
       " 'macro avg': {'precision': 0.8016981132075471,\n",
       "  'recall': 0.8504273504273504,\n",
       "  'f1-score': 0.8192170101274752,\n",
       "  'support': 468},\n",
       " 'weighted avg': {'precision': 0.8725471698113206,\n",
       "  'recall': 0.8525641025641025,\n",
       "  'f1-score': 0.85803899833728,\n",
       "  'support': 468},\n",
       " 'samples avg': {'precision': 0.8525641025641025,\n",
       "  'recall': 0.8525641025641025,\n",
       "  'f1-score': 0.8525641025641025,\n",
       "  'support': 468}}"
      ]
     },
     "execution_count": 40,
     "metadata": {},
     "output_type": "execute_result"
    }
   ],
   "source": [
    "target_name = ['benigno','maligno']\n",
    "classification_report(y_true=y_test , y_pred=y_pred , output_dict=True , target_names= target_name )"
   ]
  },
  {
   "cell_type": "markdown",
   "id": "00006447",
   "metadata": {
    "id": "00006447"
   },
   "source": [
    "**matriz de confusión**"
   ]
  },
  {
   "cell_type": "code",
   "execution_count": null,
   "id": "xZTJVgVxpVYm",
   "metadata": {
    "id": "xZTJVgVxpVYm"
   },
   "outputs": [],
   "source": [
    "import seaborn as sns"
   ]
  },
  {
   "cell_type": "code",
   "execution_count": null,
   "id": "8uYOTqAHsffp",
   "metadata": {
    "colab": {
     "base_uri": "https://localhost:8080/"
    },
    "id": "8uYOTqAHsffp",
    "outputId": "e1543afc-d8c1-4730-f3b1-93cd4f7b4485"
   },
   "outputs": [
    {
     "data": {
      "text/plain": [
       "array([[[104,  13],\n",
       "        [100, 251]],\n",
       "\n",
       "       [[251, 100],\n",
       "        [ 13, 104]]])"
      ]
     },
     "execution_count": 36,
     "metadata": {},
     "output_type": "execute_result"
    }
   ],
   "source": [
    "(multilabel_confusion_matrix(y_test,y_pred))"
   ]
  },
  {
   "cell_type": "markdown",
   "id": "2a3dcbf2",
   "metadata": {
    "id": "2a3dcbf2"
   },
   "source": [
    "**guardar modelo**"
   ]
  },
  {
   "cell_type": "code",
   "execution_count": 41,
   "id": "ab661a97",
   "metadata": {
    "id": "ab661a97"
   },
   "outputs": [],
   "source": [
    "clasificacion_model.save('vgg16_k-fold.h5')"
   ]
  },
  {
   "cell_type": "code",
   "execution_count": null,
   "id": "302d286c",
   "metadata": {
    "id": "302d286c"
   },
   "outputs": [],
   "source": []
  },
  {
   "cell_type": "code",
   "execution_count": null,
   "id": "eaf42ba0",
   "metadata": {
    "id": "eaf42ba0"
   },
   "outputs": [],
   "source": [
    "new_model = tf.keras.models.load_model('vgg16_8431_no_hot_encoding.h5')"
   ]
  },
  {
   "cell_type": "markdown",
   "id": "1c6d3415",
   "metadata": {
    "id": "1c6d3415"
   },
   "source": [
    "**predicciones**"
   ]
  },
  {
   "cell_type": "code",
   "execution_count": null,
   "id": "95a9a1f7",
   "metadata": {
    "id": "95a9a1f7"
   },
   "outputs": [],
   "source": []
  },
  {
   "cell_type": "code",
   "execution_count": null,
   "id": "2edf7135",
   "metadata": {
    "id": "2edf7135"
   },
   "outputs": [],
   "source": []
  },
  {
   "cell_type": "code",
   "execution_count": null,
   "id": "0c582d22",
   "metadata": {
    "id": "0c582d22"
   },
   "outputs": [],
   "source": []
  }
 ],
 "metadata": {
  "accelerator": "GPU",
  "colab": {
   "collapsed_sections": [],
   "name": "Modelo_vgg16_epocas_24_32.ipynb",
   "provenance": []
  },
  "kernelspec": {
   "display_name": "Python 3 (ipykernel)",
   "language": "python",
   "name": "python3"
  },
  "language_info": {
   "codemirror_mode": {
    "name": "ipython",
    "version": 3
   },
   "file_extension": ".py",
   "mimetype": "text/x-python",
   "name": "python",
   "nbconvert_exporter": "python",
   "pygments_lexer": "ipython3",
   "version": "3.7.11"
  }
 },
 "nbformat": 4,
 "nbformat_minor": 5
}
